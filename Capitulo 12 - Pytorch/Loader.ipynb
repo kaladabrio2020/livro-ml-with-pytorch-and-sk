{
 "cells": [
  {
   "cell_type": "code",
   "execution_count": 3,
   "metadata": {},
   "outputs": [],
   "source": [
    "import torch\n",
    "from torch.utils.data import DataLoader"
   ]
  },
  {
   "cell_type": "code",
   "execution_count": 5,
   "metadata": {},
   "outputs": [],
   "source": [
    "t = torch.arange(6, dtype=torch.float32)\n",
    "date_loader= DataLoader(t)"
   ]
  },
  {
   "cell_type": "code",
   "execution_count": 6,
   "metadata": {},
   "outputs": [
    {
     "name": "stdout",
     "output_type": "stream",
     "text": [
      "tensor([0.])\n",
      "tensor([1.])\n",
      "tensor([2.])\n",
      "tensor([3.])\n",
      "tensor([4.])\n",
      "tensor([5.])\n"
     ]
    }
   ],
   "source": [
    "for item in date_loader:\n",
    "    print(item)"
   ]
  },
  {
   "cell_type": "code",
   "execution_count": 7,
   "metadata": {},
   "outputs": [
    {
     "name": "stdout",
     "output_type": "stream",
     "text": [
      "batch 1: tensor([0., 1., 2.])\n",
      "batch 2: tensor([3., 4., 5.])\n"
     ]
    }
   ],
   "source": [
    "t = torch.arange(6, dtype=torch.float32)\n",
    "date_loader= DataLoader(t, batch_size=3, drop_last=False)\n",
    "for i, batch in enumerate(date_loader,1):\n",
    "    print(f'batch {i}: {batch}')"
   ]
  },
  {
   "cell_type": "code",
   "execution_count": 12,
   "metadata": {},
   "outputs": [
    {
     "name": "stdout",
     "output_type": "stream",
     "text": [
      "batch 1: tensor([0., 1., 2.])\n",
      "batch 2: tensor([3., 4., 5.])\n",
      "batch 3: tensor([6.])\n"
     ]
    }
   ],
   "source": [
    "t = torch.arange(7, dtype=torch.float32)\n",
    "date_loader= DataLoader(t, batch_size=3, drop_last=False)\n",
    "for i, batch in enumerate(date_loader,1):\n",
    "    print(f'batch {i}: {batch}')"
   ]
  },
  {
   "cell_type": "code",
   "execution_count": 13,
   "metadata": {},
   "outputs": [
    {
     "name": "stdout",
     "output_type": "stream",
     "text": [
      "batch 1: tensor([0., 1., 2.])\n",
      "batch 2: tensor([3., 4., 5.])\n"
     ]
    }
   ],
   "source": [
    "t = torch.arange(7, dtype=torch.float32)\n",
    "date_loader= DataLoader(t, batch_size=3, drop_last=True)\n",
    "for i, batch in enumerate(date_loader,1):\n",
    "    print(f'batch {i}: {batch}')"
   ]
  },
  {
   "cell_type": "markdown",
   "metadata": {},
   "source": [
    "Combinando dois tensores sobre um conjunto de dado de en"
   ]
  },
  {
   "cell_type": "code",
   "execution_count": 60,
   "metadata": {},
   "outputs": [
    {
     "data": {
      "text/plain": [
       "tensor([[0.7576, 0.2793, 0.4031],\n",
       "        [0.7347, 0.0293, 0.7999],\n",
       "        [0.3971, 0.7544, 0.5695],\n",
       "        [0.4388, 0.6387, 0.5247]])"
      ]
     },
     "execution_count": 60,
     "metadata": {},
     "output_type": "execute_result"
    }
   ],
   "source": [
    "torch.manual_seed(1)\n",
    "\n",
    "t_x = torch.rand([4, 3], dtype=torch.float32)\n",
    "t_y = torch.arange(4, dtype=torch.float32)\n",
    "t_x"
   ]
  },
  {
   "cell_type": "code",
   "execution_count": 61,
   "metadata": {},
   "outputs": [],
   "source": [
    "from torch.utils.data import Dataset\n",
    "class JointDataset(Dataset):\n",
    "    def __ini__(self, x, y):\n",
    "        self.x = y \n",
    "        self.y = y\n",
    "    def __len__(self):\n",
    "        return len(self.x)\n",
    "    \n",
    "    def __getitem__(self, idx):\n",
    "        return self.x[idx], self.y[idx]"
   ]
  },
  {
   "cell_type": "code",
   "execution_count": 62,
   "metadata": {},
   "outputs": [],
   "source": [
    "from torch.utils.data import TensorDataset"
   ]
  },
  {
   "cell_type": "code",
   "execution_count": 66,
   "metadata": {},
   "outputs": [
    {
     "name": "stdout",
     "output_type": "stream",
     "text": [
      "x: tensor([0.7576, 0.2793, 0.4031])       y:  tensor(0.)\n",
      "x: tensor([0.7347, 0.0293, 0.7999])       y:  tensor(1.)\n",
      "x: tensor([0.3971, 0.7544, 0.5695])       y:  tensor(2.)\n",
      "x: tensor([0.4388, 0.6387, 0.5247])       y:  tensor(3.)\n"
     ]
    }
   ],
   "source": [
    "join_datas = TensorDataset(t_x, t_y)\n",
    "\n",
    "for example in join_datas:\n",
    "    print('x:', example[0], '      y: ', example[1])"
   ]
  },
  {
   "cell_type": "code",
   "execution_count": 74,
   "metadata": {},
   "outputs": [],
   "source": [
    "torch.manual_seed(1)\n",
    "DataLoad = DataLoader(dataset=join_datas, batch_size=2, shuffle=True)"
   ]
  },
  {
   "cell_type": "code",
   "execution_count": 75,
   "metadata": {},
   "outputs": [
    {
     "name": "stdout",
     "output_type": "stream",
     "text": [
      "batch 1: [tensor([[0.3971, 0.7544, 0.5695],\n",
      "        [0.7576, 0.2793, 0.4031]]), tensor([2., 0.])]\n",
      "batch 2: [tensor([[0.7347, 0.0293, 0.7999],\n",
      "        [0.4388, 0.6387, 0.5247]]), tensor([1., 3.])]\n"
     ]
    }
   ],
   "source": [
    "for i, batch in enumerate(DataLoad,1):\n",
    "    print(f'batch {i}: {batch}')"
   ]
  },
  {
   "cell_type": "code",
   "execution_count": 84,
   "metadata": {},
   "outputs": [
    {
     "name": "stdout",
     "output_type": "stream",
     "text": [
      "EPOCH\n",
      "batch 1: \n",
      " x:tensor([[0.3971, 0.7544, 0.5695],\n",
      "        [0.7576, 0.2793, 0.4031]]) \n",
      " y:tensor([2., 0.])\n",
      "batch 2: \n",
      " x:tensor([[0.4388, 0.6387, 0.5247],\n",
      "        [0.7347, 0.0293, 0.7999]]) \n",
      " y:tensor([3., 1.])\n",
      "\n",
      "EPOCH\n",
      "batch 1: \n",
      " x:tensor([[0.3971, 0.7544, 0.5695],\n",
      "        [0.7347, 0.0293, 0.7999]]) \n",
      " y:tensor([2., 1.])\n",
      "batch 2: \n",
      " x:tensor([[0.7576, 0.2793, 0.4031],\n",
      "        [0.4388, 0.6387, 0.5247]]) \n",
      " y:tensor([0., 3.])\n",
      "\n"
     ]
    }
   ],
   "source": [
    "for epoch in range(2):\n",
    "    print('EPOCH')\n",
    "    for i, batch in enumerate(DataLoad,1):\n",
    "        print(f'batch {i}: \\n x:{batch[0]} \\n y:{batch[1]}')\n",
    "    print()"
   ]
  }
 ],
 "metadata": {
  "kernelspec": {
   "display_name": "venvGlobal",
   "language": "python",
   "name": "python3"
  },
  "language_info": {
   "codemirror_mode": {
    "name": "ipython",
    "version": 3
   },
   "file_extension": ".py",
   "mimetype": "text/x-python",
   "name": "python",
   "nbconvert_exporter": "python",
   "pygments_lexer": "ipython3",
   "version": "3.11.9"
  }
 },
 "nbformat": 4,
 "nbformat_minor": 2
}
