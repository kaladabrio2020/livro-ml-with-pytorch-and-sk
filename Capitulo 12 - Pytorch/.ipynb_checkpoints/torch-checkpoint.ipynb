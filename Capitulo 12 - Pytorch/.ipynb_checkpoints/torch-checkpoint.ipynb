{
  "nbformat": 4,
  "nbformat_minor": 0,
  "metadata": {
    "colab": {
      "provenance": []
    },
    "kernelspec": {
      "name": "python3",
      "display_name": "Python 3"
    },
    "language_info": {
      "name": "python"
    }
  },
  "cells": [
    {
      "cell_type": "code",
      "execution_count": 1,
      "metadata": {
        "id": "A9rH9UrcEOGr"
      },
      "outputs": [],
      "source": [
        "import torch\n",
        "import numpy as np\n",
        "from   torch import nn\n",
        "from   torch.utils.data import TensorDataset, DataLoader\n",
        "\n",
        "import matplotlib.pyplot as plt"
      ]
    },
    {
      "cell_type": "code",
      "source": [
        "xtrain = np.arange(10, dtype=np.float32).reshape(-1,1)\n",
        "ytrain = np.array([1.0, 1.3, 3.1, 2.0, 5.0, 6.3, 6.6, 7.4, 8.0, 9.0])"
      ],
      "metadata": {
        "id": "ZzahuonxLXn_"
      },
      "execution_count": 2,
      "outputs": []
    },
    {
      "cell_type": "code",
      "source": [
        "plt.scatter(xtrain, ytrain)"
      ],
      "metadata": {
        "colab": {
          "base_uri": "https://localhost:8080/",
          "height": 448
        },
        "id": "MRDtgXIXLijk",
        "outputId": "c19e6a81-844f-4a5f-b186-db551eb59738"
      },
      "execution_count": 3,
      "outputs": [
        {
          "output_type": "execute_result",
          "data": {
            "text/plain": [
              "<matplotlib.collections.PathCollection at 0x7cb8c1661960>"
            ]
          },
          "metadata": {},
          "execution_count": 3
        },
        {
          "output_type": "display_data",
          "data": {
            "text/plain": [
              "<Figure size 640x480 with 1 Axes>"
            ],
            "image/png": "[encoded data removed]"
          },
          "metadata": {}
        }
      ]
    },
    {
      "cell_type": "code",
      "source": [
        "xtrain = (xtrain - np.mean(xtrain))/np.std(xtrain)\n",
        "xtrain = torch.from_numpy(xtrain).float()\n",
        "ytrain = torch.from_numpy(ytrain).float()"
      ],
      "metadata": {
        "id": "xKEJSNbIMuGD"
      },
      "execution_count": 4,
      "outputs": []
    },
    {
      "cell_type": "code",
      "source": [
        "data = TensorDataset(xtrain, ytrain)"
      ],
      "metadata": {
        "id": "nK0eaPGzNF0o"
      },
      "execution_count": 5,
      "outputs": []
    },
    {
      "cell_type": "code",
      "source": [
        "train = DataLoader(data, batch_size=1, shuffle=True)"
      ],
      "metadata": {
        "id": "gxVpjdANNjtz"
      },
      "execution_count": 6,
      "outputs": []
    },
    {
      "cell_type": "code",
      "source": [
        "torch.manual_seed(1)\n",
        "\n",
        "peso = torch.randn(1)\n",
        "peso.requires_grad_()\n",
        "bias = torch.zeros(1, requires_grad=True)\n",
        "peso, bias"
      ],
      "metadata": {
        "colab": {
          "base_uri": "https://localhost:8080/"
        },
        "id": "G6DXlcr9OP9X",
        "outputId": "9f735ffb-b4f1-42ce-8c23-625ede1f848c"
      },
      "execution_count": 7,
      "outputs": [
        {
          "output_type": "execute_result",
          "data": {
            "text/plain": [
              "(tensor([0.6614], requires_grad=True), tensor([0.], requires_grad=True))"
            ]
          },
          "metadata": {},
          "execution_count": 7
        }
      ]
    },
    {
      "cell_type": "code",
      "source": [
        "def model(xb):\n",
        "    return xb @ peso + bias\n",
        "\n",
        "def loss_fn(input, target):\n",
        "    return (input-target).pow(2).mean()"
      ],
      "metadata": {
        "id": "qhEIOo46PYTZ"
      },
      "execution_count": 8,
      "outputs": []
    },
    {
      "cell_type": "code",
      "source": [
        "lr = 0.01\n",
        "epochs = 200\n",
        "log_epochs = 10\n",
        "\n",
        "\n",
        "for epoch in range(epochs):\n",
        "    for x_batch, y_batch in train:\n",
        "        pred = model(x_batch)\n",
        "        loss = loss_fn(pred, y_batch.long())\n",
        "        loss.backward()\n",
        "\n",
        "    with torch.no_grad():\n",
        "        peso -= peso.grad * lr\n",
        "        bias -= bias.grad * lr\n",
        "        peso.grad.zero_()\n",
        "        bias.grad.zero_()\n",
        "\n",
        "    if epoch % log_epochs ==0:\n",
        "        print(f'epoch {epoch}.......loss :{loss.item():.4f}')"
      ],
      "metadata": {
        "colab": {
          "base_uri": "https://localhost:8080/"
        },
        "id": "UbN97b6Yblza",
        "outputId": "30829b1e-ab95-403b-c82d-a53b452a526e"
      },
      "execution_count": 9,
      "outputs": [
        {
          "output_type": "stream",
          "name": "stdout",
          "text": [
            "epoch 0.......loss :41.2725\n",
            "epoch 10.......loss :1.6550\n",
            "epoch 20.......loss :0.2564\n",
            "epoch 30.......loss :0.0033\n",
            "epoch 40.......loss :0.0000\n",
            "epoch 50.......loss :0.0178\n",
            "epoch 60.......loss :0.1600\n",
            "epoch 70.......loss :0.0000\n",
            "epoch 80.......loss :0.4444\n",
            "epoch 90.......loss :0.1600\n",
            "epoch 100.......loss :0.0000\n",
            "epoch 110.......loss :0.4444\n",
            "epoch 120.......loss :0.2844\n",
            "epoch 130.......loss :0.2844\n",
            "epoch 140.......loss :0.0000\n",
            "epoch 150.......loss :1.9600\n",
            "epoch 160.......loss :0.0044\n",
            "epoch 170.......loss :0.0178\n",
            "epoch 180.......loss :0.0178\n",
            "epoch 190.......loss :0.0000\n"
          ]
        }
      ]
    },
    {
      "cell_type": "code",
      "source": [
        "print(f'final parametros  {peso.item():.2f}, {bias.item():.2f}')"
      ],
      "metadata": {
        "colab": {
          "base_uri": "https://localhost:8080/"
        },
        "id": "BlsP_O2BeSSD",
        "outputId": "a0d53e39-8905-4bff-f244-50c702e76440"
      },
      "execution_count": 10,
      "outputs": [
        {
          "output_type": "stream",
          "name": "stdout",
          "text": [
            "final parametros  2.68, 4.80\n"
          ]
        }
      ]
    },
    {
      "cell_type": "code",
      "source": [
        "xtest = np.linspace(0, 9, 10, dtype=np.float32).reshape(-1, 1)\n",
        "xtest = (xtest - np.mean(xtest))/np.std(xtest)\n",
        "xtest = torch.from_numpy(xtest)"
      ],
      "metadata": {
        "id": "vUB0-wUHgFPn"
      },
      "execution_count": 11,
      "outputs": []
    },
    {
      "cell_type": "code",
      "source": [
        "pred = model(xtest).detach().numpy()\n"
      ],
      "metadata": {
        "id": "dINjMhyTgrDk"
      },
      "execution_count": 12,
      "outputs": []
    },
    {
      "cell_type": "code",
      "source": [
        "plt.scatter(xtrain, ytrain)\n",
        "plt.plot(xtrain, pred.reshape(-1,1))"
      ],
      "metadata": {
        "colab": {
          "base_uri": "https://localhost:8080/",
          "height": 448
        },
        "id": "pgf80l4_g0cE",
        "outputId": "34d45d7f-bcf6-47dd-e142-617cc333a139"
      },
      "execution_count": 13,
      "outputs": [
        {
          "output_type": "execute_result",
          "data": {
            "text/plain": [
              "[<matplotlib.lines.Line2D at 0x7cb8bf5e5060>]"
            ]
          },
          "metadata": {},
          "execution_count": 13
        },
        {
          "output_type": "display_data",
          "data": {
            "text/plain": [
              "<Figure size 640x480 with 1 Axes>"
            ],
            "image/png": "[encoded data removed]"
          },
          "metadata": {}
        }
      ]
    },
    {
      "cell_type": "code",
      "source": [
        "loss_fn  = torch.nn.MSELoss(reduction='mean')\n",
        "model = torch.nn.Linear(1, 1)\n",
        "\n",
        "optimizer = torch.optim.SGD(params=model.parameters(), lr=0.001)"
      ],
      "metadata": {
        "id": "-u_uxd8rhFgH"
      },
      "execution_count": 14,
      "outputs": []
    },
    {
      "cell_type": "code",
      "source": [
        "for epoch in range(epochs):\n",
        "    for x_batch, y_batch in train:\n",
        "        # gerando predições\n",
        "        pred = model(x_batch)[:,0]\n",
        "\n",
        "        #caculando perda\n",
        "        loss_r = loss_fn(pred, y_batch)\n",
        "\n",
        "        # caculando gradientes\n",
        "        loss_r.backward()\n",
        "\n",
        "        #Atualizando paramentros usando gradiente\n",
        "        optimizer.step()\n",
        "\n",
        "        #Resetando os gradientes para zero\n",
        "        optimizer.zero_grad()\n",
        "    if epoch % log_epochs ==0:\n",
        "        print(f'epoch {epoch}.......loss :{loss_r.item():.4f}')"
      ],
      "metadata": {
        "colab": {
          "base_uri": "https://localhost:8080/"
        },
        "id": "2DTa3p_UjY6a",
        "outputId": "c194dd13-c734-4fda-debc-b3077d2bf985"
      },
      "execution_count": 15,
      "outputs": [
        {
          "output_type": "stream",
          "name": "stdout",
          "text": [
            "epoch 0.......loss :24.6684\n",
            "epoch 10.......loss :29.1377\n",
            "epoch 20.......loss :20.9207\n",
            "epoch 30.......loss :0.1257\n",
            "epoch 40.......loss :12.4922\n",
            "epoch 50.......loss :1.7845\n",
            "epoch 60.......loss :7.6425\n",
            "epoch 70.......loss :2.5606\n",
            "epoch 80.......loss :0.0157\n",
            "epoch 90.......loss :0.7548\n",
            "epoch 100.......loss :0.8412\n",
            "epoch 110.......loss :0.4923\n",
            "epoch 120.......loss :0.0823\n",
            "epoch 130.......loss :0.0794\n",
            "epoch 140.......loss :0.0891\n",
            "epoch 150.......loss :0.0973\n",
            "epoch 160.......loss :0.1043\n",
            "epoch 170.......loss :0.1103\n",
            "epoch 180.......loss :0.0009\n",
            "epoch 190.......loss :0.0764\n"
          ]
        }
      ]
    },
    {
      "cell_type": "code",
      "source": [
        "print(f'final parametros  {model.weight.item():.2f}, {model.bias.item():.2f}')"
      ],
      "metadata": {
        "colab": {
          "base_uri": "https://localhost:8080/"
        },
        "id": "35g_eTgkkTM4",
        "outputId": "f69d4ed7-19bd-4c43-aff6-39c00489d45e"
      },
      "execution_count": 16,
      "outputs": [
        {
          "output_type": "stream",
          "name": "stdout",
          "text": [
            "final parametros  2.65, 4.88\n"
          ]
        }
      ]
    },
    {
      "cell_type": "markdown",
      "source": [
        "Load_iris"
      ],
      "metadata": {
        "id": "lQ_GKJD5l750"
      }
    },
    {
      "cell_type": "code",
      "source": [
        "from sklearn.datasets import load_iris\n",
        "from sklearn.preprocessing import StandardScaler\n",
        "from sklearn.model_selection import train_test_split"
      ],
      "metadata": {
        "id": "Yaa0ddfGl-nn"
      },
      "execution_count": 57,
      "outputs": []
    },
    {
      "cell_type": "code",
      "source": [
        "X, y = load_iris(return_X_y=True)"
      ],
      "metadata": {
        "id": "-3n1KOa4mC4Z"
      },
      "execution_count": 71,
      "outputs": []
    },
    {
      "cell_type": "code",
      "source": [
        "X = StandardScaler().fit_transform(X)"
      ],
      "metadata": {
        "id": "yVmMoZLXmIvB"
      },
      "execution_count": 72,
      "outputs": []
    },
    {
      "cell_type": "code",
      "source": [
        "X = torch.tensor(X.astype(np.float32))\n",
        "y = torch.tensor(y)"
      ],
      "metadata": {
        "id": "5EDa4feOmj3f"
      },
      "execution_count": 73,
      "outputs": []
    },
    {
      "cell_type": "code",
      "source": [
        "xtrain, xtest, ytrain, ytest = train_test_split(X, y, test_size=0.25, random_state=42)"
      ],
      "metadata": {
        "id": "gX0_gJaOmcGp"
      },
      "execution_count": 74,
      "outputs": []
    },
    {
      "cell_type": "code",
      "source": [
        "from torch.utils.data import TensorDataset, DataLoader"
      ],
      "metadata": {
        "id": "XKcQFSxomv_0"
      },
      "execution_count": 75,
      "outputs": []
    },
    {
      "cell_type": "code",
      "source": [
        "xtrain.shape[1]"
      ],
      "metadata": {
        "colab": {
          "base_uri": "https://localhost:8080/"
        },
        "id": "zH7uGIaPrivm",
        "outputId": "762b13ca-024a-4ca4-e68d-1ebaf4cb3db2"
      },
      "execution_count": 76,
      "outputs": [
        {
          "output_type": "execute_result",
          "data": {
            "text/plain": [
              "4"
            ]
          },
          "metadata": {},
          "execution_count": 76
        }
      ]
    },
    {
      "cell_type": "code",
      "source": [
        "model = torch.nn.Sequential(\n",
        "    torch.nn.Linear(4,16),\n",
        "    torch.nn.Sigmoid(),\n",
        "    torch.nn.Linear(16, 3)\n",
        ")\n",
        "model"
      ],
      "metadata": {
        "colab": {
          "base_uri": "https://localhost:8080/"
        },
        "id": "3JF_TsnnoJXV",
        "outputId": "8107d61a-acf2-424c-ac81-1041a9801e0e"
      },
      "execution_count": 77,
      "outputs": [
        {
          "output_type": "execute_result",
          "data": {
            "text/plain": [
              "Sequential(\n",
              "  (0): Linear(in_features=4, out_features=16, bias=True)\n",
              "  (1): Sigmoid()\n",
              "  (2): Linear(in_features=16, out_features=3, bias=True)\n",
              ")"
            ]
          },
          "metadata": {},
          "execution_count": 77
        }
      ]
    },
    {
      "cell_type": "code",
      "source": [
        "%pip install torchviz"
      ],
      "metadata": {
        "colab": {
          "base_uri": "https://localhost:8080/"
        },
        "id": "W9SXaVUwpgUi",
        "outputId": "4a4bb76b-edd2-4ad4-b4f8-dd12631c2be5"
      },
      "execution_count": 78,
      "outputs": [
        {
          "output_type": "stream",
          "name": "stdout",
          "text": [
            "Requirement already satisfied: torchviz in /usr/local/lib/python3.10/dist-packages (0.0.2)\n",
            "Requirement already satisfied: torch in /usr/local/lib/python3.10/dist-packages (from torchviz) (2.2.1+cu121)\n",
            "Requirement already satisfied: graphviz in /usr/local/lib/python3.10/dist-packages (from torchviz) (0.20.3)\n",
            "Requirement already satisfied: filelock in /usr/local/lib/python3.10/dist-packages (from torch->torchviz) (3.14.0)\n",
            "Requirement already satisfied: typing-extensions>=4.8.0 in /usr/local/lib/python3.10/dist-packages (from torch->torchviz) (4.11.0)\n",
            "Requirement already satisfied: sympy in /usr/local/lib/python3.10/dist-packages (from torch->torchviz) (1.12)\n",
            "Requirement already satisfied: networkx in /usr/local/lib/python3.10/dist-packages (from torch->torchviz) (3.3)\n",
            "Requirement already satisfied: jinja2 in /usr/local/lib/python3.10/dist-packages (from torch->torchviz) (3.1.3)\n",
            "Requirement already satisfied: fsspec in /usr/local/lib/python3.10/dist-packages (from torch->torchviz) (2023.6.0)\n",
            "Requirement already satisfied: nvidia-cuda-nvrtc-cu12==12.1.105 in /usr/local/lib/python3.10/dist-packages (from torch->torchviz) (12.1.105)\n",
            "Requirement already satisfied: nvidia-cuda-runtime-cu12==12.1.105 in /usr/local/lib/python3.10/dist-packages (from torch->torchviz) (12.1.105)\n",
            "Requirement already satisfied: nvidia-cuda-cupti-cu12==12.1.105 in /usr/local/lib/python3.10/dist-packages (from torch->torchviz) (12.1.105)\n",
            "Requirement already satisfied: nvidia-cudnn-cu12==8.9.2.26 in /usr/local/lib/python3.10/dist-packages (from torch->torchviz) (8.9.2.26)\n",
            "Requirement already satisfied: nvidia-cublas-cu12==12.1.3.1 in /usr/local/lib/python3.10/dist-packages (from torch->torchviz) (12.1.3.1)\n",
            "Requirement already satisfied: nvidia-cufft-cu12==11.0.2.54 in /usr/local/lib/python3.10/dist-packages (from torch->torchviz) (11.0.2.54)\n",
            "Requirement already satisfied: nvidia-curand-cu12==10.3.2.106 in /usr/local/lib/python3.10/dist-packages (from torch->torchviz) (10.3.2.106)\n",
            "Requirement already satisfied: nvidia-cusolver-cu12==11.4.5.107 in /usr/local/lib/python3.10/dist-packages (from torch->torchviz) (11.4.5.107)\n",
            "Requirement already satisfied: nvidia-cusparse-cu12==12.1.0.106 in /usr/local/lib/python3.10/dist-packages (from torch->torchviz) (12.1.0.106)\n",
            "Requirement already satisfied: nvidia-nccl-cu12==2.19.3 in /usr/local/lib/python3.10/dist-packages (from torch->torchviz) (2.19.3)\n",
            "Requirement already satisfied: nvidia-nvtx-cu12==12.1.105 in /usr/local/lib/python3.10/dist-packages (from torch->torchviz) (12.1.105)\n",
            "Requirement already satisfied: triton==2.2.0 in /usr/local/lib/python3.10/dist-packages (from torch->torchviz) (2.2.0)\n",
            "Requirement already satisfied: nvidia-nvjitlink-cu12 in /usr/local/lib/python3.10/dist-packages (from nvidia-cusolver-cu12==11.4.5.107->torch->torchviz) (12.4.127)\n",
            "Requirement already satisfied: MarkupSafe>=2.0 in /usr/local/lib/python3.10/dist-packages (from jinja2->torch->torchviz) (2.1.5)\n",
            "Requirement already satisfied: mpmath>=0.19 in /usr/local/lib/python3.10/dist-packages (from sympy->torch->torchviz) (1.3.0)\n"
          ]
        }
      ]
    },
    {
      "cell_type": "code",
      "source": [
        "from torchviz import make_dot"
      ],
      "metadata": {
        "id": "LsEN6HEYqDrp"
      },
      "execution_count": 79,
      "outputs": []
    },
    {
      "cell_type": "code",
      "source": [
        "make_dot(model(xtest), params=dict(model.named_parameters()))"
      ],
      "metadata": {
        "colab": {
          "base_uri": "https://localhost:8080/",
          "height": 572
        },
        "id": "LYMkMbTKrYnh",
        "outputId": "7c971322-03b1-45e0-9122-9009cf2fc72a"
      },
      "execution_count": 80,
      "outputs": [
        {
          "output_type": "execute_result",
          "data": {
            "image/svg+xml": "<?xml version=\"1.0\" encoding=\"UTF-8\" standalone=\"no\"?>\n<!DOCTYPE svg PUBLIC \"-//W3C//DTD SVG 1.1//EN\"\n \"http://www.w3.org/Graphics/SVG/1.1/DTD/svg11.dtd\">\n<!-- Generated by graphviz version 2.43.0 (0)\n -->\n<!-- Title: %3 Pages: 1 -->\n<svg width=\"351pt\" height=\"413pt\"\n viewBox=\"0.00 0.00 351.00 413.00\" xmlns=\"http://www.w3.org/2000/svg\" xmlns:xlink=\"http://www.w3.org/1999/xlink\">\n<g id=\"graph0\" class=\"graph\" transform=\"scale(1 1) rotate(0) translate(4 409)\">\n<title>%3</title>\n<polygon fill=\"white\" stroke=\"transparent\" points=\"-4,4 -4,-409 347,-409 347,4 -4,4\"/>\n<!-- 137132386106432 -->\n<g id=\"node1\" class=\"node\">\n<title>137132386106432</title>\n<polygon fill=\"#caff70\" stroke=\"black\" points=\"208,-31 143,-31 143,0 208,0 208,-31\"/>\n<text text-anchor=\"middle\" x=\"175.5\" y=\"-7\" font-family=\"monospace\" font-size=\"10.00\"> (38, 3)</text>\n</g>\n<!-- 137132400962256 -->\n<g id=\"node2\" class=\"node\">\n<title>137132400962256</title>\n<polygon fill=\"lightgrey\" stroke=\"black\" points=\"226,-86 125,-86 125,-67 226,-67 226,-86\"/>\n<text text-anchor=\"middle\" x=\"175.5\" y=\"-74\" font-family=\"monospace\" font-size=\"10.00\">AddmmBackward0</text>\n</g>\n<!-- 137132400962256&#45;&gt;137132386106432 -->\n<g id=\"edge13\" class=\"edge\">\n<title>137132400962256&#45;&gt;137132386106432</title>\n<path fill=\"none\" stroke=\"black\" d=\"M175.5,-66.79C175.5,-60.07 175.5,-50.4 175.5,-41.34\"/>\n<polygon fill=\"black\" stroke=\"black\" points=\"179,-41.19 175.5,-31.19 172,-41.19 179,-41.19\"/>\n</g>\n<!-- 137132400960288 -->\n<g id=\"node3\" class=\"node\">\n<title>137132400960288</title>\n<polygon fill=\"lightgrey\" stroke=\"black\" points=\"101,-141 0,-141 0,-122 101,-122 101,-141\"/>\n<text text-anchor=\"middle\" x=\"50.5\" y=\"-129\" font-family=\"monospace\" font-size=\"10.00\">AccumulateGrad</text>\n</g>\n<!-- 137132400960288&#45;&gt;137132400962256 -->\n<g id=\"edge1\" class=\"edge\">\n<title>137132400960288&#45;&gt;137132400962256</title>\n<path fill=\"none\" stroke=\"black\" d=\"M70.58,-121.98C90.87,-113.38 122.46,-99.99 145.67,-90.15\"/>\n<polygon fill=\"black\" stroke=\"black\" points=\"147.21,-93.3 155.05,-86.17 144.48,-86.85 147.21,-93.3\"/>\n</g>\n<!-- 137132401557344 -->\n<g id=\"node4\" class=\"node\">\n<title>137132401557344</title>\n<polygon fill=\"lightblue\" stroke=\"black\" points=\"77.5,-207 23.5,-207 23.5,-177 77.5,-177 77.5,-207\"/>\n<text text-anchor=\"middle\" x=\"50.5\" y=\"-195\" font-family=\"monospace\" font-size=\"10.00\">2.bias</text>\n<text text-anchor=\"middle\" x=\"50.5\" y=\"-184\" font-family=\"monospace\" font-size=\"10.00\"> (3)</text>\n</g>\n<!-- 137132401557344&#45;&gt;137132400960288 -->\n<g id=\"edge2\" class=\"edge\">\n<title>137132401557344&#45;&gt;137132400960288</title>\n<path fill=\"none\" stroke=\"black\" d=\"M50.5,-176.84C50.5,-169.21 50.5,-159.7 50.5,-151.45\"/>\n<polygon fill=\"black\" stroke=\"black\" points=\"54,-151.27 50.5,-141.27 47,-151.27 54,-151.27\"/>\n</g>\n<!-- 137132400963744 -->\n<g id=\"node5\" class=\"node\">\n<title>137132400963744</title>\n<polygon fill=\"lightgrey\" stroke=\"black\" points=\"232,-141 119,-141 119,-122 232,-122 232,-141\"/>\n<text text-anchor=\"middle\" x=\"175.5\" y=\"-129\" font-family=\"monospace\" font-size=\"10.00\">SigmoidBackward0</text>\n</g>\n<!-- 137132400963744&#45;&gt;137132400962256 -->\n<g id=\"edge3\" class=\"edge\">\n<title>137132400963744&#45;&gt;137132400962256</title>\n<path fill=\"none\" stroke=\"black\" d=\"M175.5,-121.75C175.5,-114.8 175.5,-104.85 175.5,-96.13\"/>\n<polygon fill=\"black\" stroke=\"black\" points=\"179,-96.09 175.5,-86.09 172,-96.09 179,-96.09\"/>\n</g>\n<!-- 137132400953328 -->\n<g id=\"node6\" class=\"node\">\n<title>137132400953328</title>\n<polygon fill=\"lightgrey\" stroke=\"black\" points=\"224,-201.5 123,-201.5 123,-182.5 224,-182.5 224,-201.5\"/>\n<text text-anchor=\"middle\" x=\"173.5\" y=\"-189.5\" font-family=\"monospace\" font-size=\"10.00\">AddmmBackward0</text>\n</g>\n<!-- 137132400953328&#45;&gt;137132400963744 -->\n<g id=\"edge4\" class=\"edge\">\n<title>137132400953328&#45;&gt;137132400963744</title>\n<path fill=\"none\" stroke=\"black\" d=\"M173.8,-182.37C174.07,-174.25 174.5,-161.81 174.85,-151.39\"/>\n<polygon fill=\"black\" stroke=\"black\" points=\"178.36,-151.28 175.2,-141.17 171.36,-151.04 178.36,-151.28\"/>\n</g>\n<!-- 137132400960336 -->\n<g id=\"node7\" class=\"node\">\n<title>137132400960336</title>\n<polygon fill=\"lightgrey\" stroke=\"black\" points=\"132,-267.5 31,-267.5 31,-248.5 132,-248.5 132,-267.5\"/>\n<text text-anchor=\"middle\" x=\"81.5\" y=\"-255.5\" font-family=\"monospace\" font-size=\"10.00\">AccumulateGrad</text>\n</g>\n<!-- 137132400960336&#45;&gt;137132400953328 -->\n<g id=\"edge5\" class=\"edge\">\n<title>137132400960336&#45;&gt;137132400953328</title>\n<path fill=\"none\" stroke=\"black\" d=\"M93.91,-248.37C108.86,-237.97 134.22,-220.32 152.3,-207.75\"/>\n<polygon fill=\"black\" stroke=\"black\" points=\"154.78,-210.28 161,-201.7 150.79,-204.54 154.78,-210.28\"/>\n</g>\n<!-- 137132386101072 -->\n<g id=\"node8\" class=\"node\">\n<title>137132386101072</title>\n<polygon fill=\"lightblue\" stroke=\"black\" points=\"108.5,-339 54.5,-339 54.5,-309 108.5,-309 108.5,-339\"/>\n<text text-anchor=\"middle\" x=\"81.5\" y=\"-327\" font-family=\"monospace\" font-size=\"10.00\">0.bias</text>\n<text text-anchor=\"middle\" x=\"81.5\" y=\"-316\" font-family=\"monospace\" font-size=\"10.00\"> (16)</text>\n</g>\n<!-- 137132386101072&#45;&gt;137132400960336 -->\n<g id=\"edge6\" class=\"edge\">\n<title>137132386101072&#45;&gt;137132400960336</title>\n<path fill=\"none\" stroke=\"black\" d=\"M81.5,-308.8C81.5,-299.7 81.5,-287.79 81.5,-277.9\"/>\n<polygon fill=\"black\" stroke=\"black\" points=\"85,-277.84 81.5,-267.84 78,-277.84 85,-277.84\"/>\n</g>\n<!-- 137132400958272 -->\n<g id=\"node9\" class=\"node\">\n<title>137132400958272</title>\n<polygon fill=\"lightgrey\" stroke=\"black\" points=\"227,-267.5 150,-267.5 150,-248.5 227,-248.5 227,-267.5\"/>\n<text text-anchor=\"middle\" x=\"188.5\" y=\"-255.5\" font-family=\"monospace\" font-size=\"10.00\">TBackward0</text>\n</g>\n<!-- 137132400958272&#45;&gt;137132400953328 -->\n<g id=\"edge7\" class=\"edge\">\n<title>137132400958272&#45;&gt;137132400953328</title>\n<path fill=\"none\" stroke=\"black\" d=\"M186.48,-248.37C184.3,-239.07 180.76,-223.98 177.93,-211.9\"/>\n<polygon fill=\"black\" stroke=\"black\" points=\"181.28,-210.84 175.59,-201.91 174.46,-212.44 181.28,-210.84\"/>\n</g>\n<!-- 137132400958176 -->\n<g id=\"node10\" class=\"node\">\n<title>137132400958176</title>\n<polygon fill=\"lightgrey\" stroke=\"black\" points=\"239,-333.5 138,-333.5 138,-314.5 239,-314.5 239,-333.5\"/>\n<text text-anchor=\"middle\" x=\"188.5\" y=\"-321.5\" font-family=\"monospace\" font-size=\"10.00\">AccumulateGrad</text>\n</g>\n<!-- 137132400958176&#45;&gt;137132400958272 -->\n<g id=\"edge8\" class=\"edge\">\n<title>137132400958176&#45;&gt;137132400958272</title>\n<path fill=\"none\" stroke=\"black\" d=\"M188.5,-314.37C188.5,-305.16 188.5,-290.29 188.5,-278.27\"/>\n<polygon fill=\"black\" stroke=\"black\" points=\"192,-277.91 188.5,-267.91 185,-277.91 192,-277.91\"/>\n</g>\n<!-- 137132384253440 -->\n<g id=\"node11\" class=\"node\">\n<title>137132384253440</title>\n<polygon fill=\"lightblue\" stroke=\"black\" points=\"221,-405 156,-405 156,-375 221,-375 221,-405\"/>\n<text text-anchor=\"middle\" x=\"188.5\" y=\"-393\" font-family=\"monospace\" font-size=\"10.00\">0.weight</text>\n<text text-anchor=\"middle\" x=\"188.5\" y=\"-382\" font-family=\"monospace\" font-size=\"10.00\"> (16, 4)</text>\n</g>\n<!-- 137132384253440&#45;&gt;137132400958176 -->\n<g id=\"edge9\" class=\"edge\">\n<title>137132384253440&#45;&gt;137132400958176</title>\n<path fill=\"none\" stroke=\"black\" d=\"M188.5,-374.8C188.5,-365.7 188.5,-353.79 188.5,-343.9\"/>\n<polygon fill=\"black\" stroke=\"black\" points=\"192,-343.84 188.5,-333.84 185,-343.84 192,-343.84\"/>\n</g>\n<!-- 137132400958944 -->\n<g id=\"node12\" class=\"node\">\n<title>137132400958944</title>\n<polygon fill=\"lightgrey\" stroke=\"black\" points=\"330,-141 253,-141 253,-122 330,-122 330,-141\"/>\n<text text-anchor=\"middle\" x=\"291.5\" y=\"-129\" font-family=\"monospace\" font-size=\"10.00\">TBackward0</text>\n</g>\n<!-- 137132400958944&#45;&gt;137132400962256 -->\n<g id=\"edge10\" class=\"edge\">\n<title>137132400958944&#45;&gt;137132400962256</title>\n<path fill=\"none\" stroke=\"black\" d=\"M272.86,-121.98C254.2,-113.46 225.25,-100.23 203.76,-90.41\"/>\n<polygon fill=\"black\" stroke=\"black\" points=\"205.03,-87.14 194.48,-86.17 202.12,-93.51 205.03,-87.14\"/>\n</g>\n<!-- 137132400967008 -->\n<g id=\"node13\" class=\"node\">\n<title>137132400967008</title>\n<polygon fill=\"lightgrey\" stroke=\"black\" points=\"343,-201.5 242,-201.5 242,-182.5 343,-182.5 343,-201.5\"/>\n<text text-anchor=\"middle\" x=\"292.5\" y=\"-189.5\" font-family=\"monospace\" font-size=\"10.00\">AccumulateGrad</text>\n</g>\n<!-- 137132400967008&#45;&gt;137132400958944 -->\n<g id=\"edge11\" class=\"edge\">\n<title>137132400967008&#45;&gt;137132400958944</title>\n<path fill=\"none\" stroke=\"black\" d=\"M292.35,-182.37C292.21,-174.25 292,-161.81 291.82,-151.39\"/>\n<polygon fill=\"black\" stroke=\"black\" points=\"295.32,-151.11 291.65,-141.17 288.32,-151.23 295.32,-151.11\"/>\n</g>\n<!-- 137132386094992 -->\n<g id=\"node14\" class=\"node\">\n<title>137132386094992</title>\n<polygon fill=\"lightblue\" stroke=\"black\" points=\"325,-273 260,-273 260,-243 325,-243 325,-273\"/>\n<text text-anchor=\"middle\" x=\"292.5\" y=\"-261\" font-family=\"monospace\" font-size=\"10.00\">2.weight</text>\n<text text-anchor=\"middle\" x=\"292.5\" y=\"-250\" font-family=\"monospace\" font-size=\"10.00\"> (3, 16)</text>\n</g>\n<!-- 137132386094992&#45;&gt;137132400967008 -->\n<g id=\"edge12\" class=\"edge\">\n<title>137132386094992&#45;&gt;137132400967008</title>\n<path fill=\"none\" stroke=\"black\" d=\"M292.5,-242.8C292.5,-233.7 292.5,-221.79 292.5,-211.9\"/>\n<polygon fill=\"black\" stroke=\"black\" points=\"296,-211.84 292.5,-201.84 289,-211.84 296,-211.84\"/>\n</g>\n</g>\n</svg>\n",
            "text/plain": [
              "<graphviz.graphs.Digraph at 0x7cb8a00bef20>"
            ]
          },
          "metadata": {},
          "execution_count": 80
        }
      ]
    },
    {
      "cell_type": "code",
      "source": [
        "example_input = torch.randn(1, 4)\n",
        "\n",
        "# Passar o tensor pelo modelo para gerar o gráfico\n",
        "dot = make_dot(model(example_input), params=dict(model.named_parameters()))\n",
        "\n",
        "# Exibir o gráfico\n",
        "dot"
      ],
      "metadata": {
        "colab": {
          "base_uri": "https://localhost:8080/",
          "height": 572
        },
        "id": "4ASSfjCGpkyp",
        "outputId": "90492dcf-bbd9-42fa-ef61-5a7de4f0502d"
      },
      "execution_count": 81,
      "outputs": [
        {
          "output_type": "execute_result",
          "data": {
            "image/svg+xml": "<?xml version=\"1.0\" encoding=\"UTF-8\" standalone=\"no\"?>\n<!DOCTYPE svg PUBLIC \"-//W3C//DTD SVG 1.1//EN\"\n \"http://www.w3.org/Graphics/SVG/1.1/DTD/svg11.dtd\">\n<!-- Generated by graphviz version 2.43.0 (0)\n -->\n<!-- Title: %3 Pages: 1 -->\n<svg width=\"351pt\" height=\"413pt\"\n viewBox=\"0.00 0.00 351.00 413.00\" xmlns=\"http://www.w3.org/2000/svg\" xmlns:xlink=\"http://www.w3.org/1999/xlink\">\n<g id=\"graph0\" class=\"graph\" transform=\"scale(1 1) rotate(0) translate(4 409)\">\n<title>%3</title>\n<polygon fill=\"white\" stroke=\"transparent\" points=\"-4,4 -4,-409 347,-409 347,4 -4,4\"/>\n<!-- 137132385337024 -->\n<g id=\"node1\" class=\"node\">\n<title>137132385337024</title>\n<polygon fill=\"#caff70\" stroke=\"black\" points=\"205,-31 146,-31 146,0 205,0 205,-31\"/>\n<text text-anchor=\"middle\" x=\"175.5\" y=\"-7\" font-family=\"monospace\" font-size=\"10.00\"> (1, 3)</text>\n</g>\n<!-- 137132400961056 -->\n<g id=\"node2\" class=\"node\">\n<title>137132400961056</title>\n<polygon fill=\"lightgrey\" stroke=\"black\" points=\"226,-86 125,-86 125,-67 226,-67 226,-86\"/>\n<text text-anchor=\"middle\" x=\"175.5\" y=\"-74\" font-family=\"monospace\" font-size=\"10.00\">AddmmBackward0</text>\n</g>\n<!-- 137132400961056&#45;&gt;137132385337024 -->\n<g id=\"edge13\" class=\"edge\">\n<title>137132400961056&#45;&gt;137132385337024</title>\n<path fill=\"none\" stroke=\"black\" d=\"M175.5,-66.79C175.5,-60.07 175.5,-50.4 175.5,-41.34\"/>\n<polygon fill=\"black\" stroke=\"black\" points=\"179,-41.19 175.5,-31.19 172,-41.19 179,-41.19\"/>\n</g>\n<!-- 137132400960288 -->\n<g id=\"node3\" class=\"node\">\n<title>137132400960288</title>\n<polygon fill=\"lightgrey\" stroke=\"black\" points=\"101,-141 0,-141 0,-122 101,-122 101,-141\"/>\n<text text-anchor=\"middle\" x=\"50.5\" y=\"-129\" font-family=\"monospace\" font-size=\"10.00\">AccumulateGrad</text>\n</g>\n<!-- 137132400960288&#45;&gt;137132400961056 -->\n<g id=\"edge1\" class=\"edge\">\n<title>137132400960288&#45;&gt;137132400961056</title>\n<path fill=\"none\" stroke=\"black\" d=\"M70.58,-121.98C90.87,-113.38 122.46,-99.99 145.67,-90.15\"/>\n<polygon fill=\"black\" stroke=\"black\" points=\"147.21,-93.3 155.05,-86.17 144.48,-86.85 147.21,-93.3\"/>\n</g>\n<!-- 137132401557344 -->\n<g id=\"node4\" class=\"node\">\n<title>137132401557344</title>\n<polygon fill=\"lightblue\" stroke=\"black\" points=\"77.5,-207 23.5,-207 23.5,-177 77.5,-177 77.5,-207\"/>\n<text text-anchor=\"middle\" x=\"50.5\" y=\"-195\" font-family=\"monospace\" font-size=\"10.00\">2.bias</text>\n<text text-anchor=\"middle\" x=\"50.5\" y=\"-184\" font-family=\"monospace\" font-size=\"10.00\"> (3)</text>\n</g>\n<!-- 137132401557344&#45;&gt;137132400960288 -->\n<g id=\"edge2\" class=\"edge\">\n<title>137132401557344&#45;&gt;137132400960288</title>\n<path fill=\"none\" stroke=\"black\" d=\"M50.5,-176.84C50.5,-169.21 50.5,-159.7 50.5,-151.45\"/>\n<polygon fill=\"black\" stroke=\"black\" points=\"54,-151.27 50.5,-141.27 47,-151.27 54,-151.27\"/>\n</g>\n<!-- 137132400966000 -->\n<g id=\"node5\" class=\"node\">\n<title>137132400966000</title>\n<polygon fill=\"lightgrey\" stroke=\"black\" points=\"232,-141 119,-141 119,-122 232,-122 232,-141\"/>\n<text text-anchor=\"middle\" x=\"175.5\" y=\"-129\" font-family=\"monospace\" font-size=\"10.00\">SigmoidBackward0</text>\n</g>\n<!-- 137132400966000&#45;&gt;137132400961056 -->\n<g id=\"edge3\" class=\"edge\">\n<title>137132400966000&#45;&gt;137132400961056</title>\n<path fill=\"none\" stroke=\"black\" d=\"M175.5,-121.75C175.5,-114.8 175.5,-104.85 175.5,-96.13\"/>\n<polygon fill=\"black\" stroke=\"black\" points=\"179,-96.09 175.5,-86.09 172,-96.09 179,-96.09\"/>\n</g>\n<!-- 137132400966864 -->\n<g id=\"node6\" class=\"node\">\n<title>137132400966864</title>\n<polygon fill=\"lightgrey\" stroke=\"black\" points=\"224,-201.5 123,-201.5 123,-182.5 224,-182.5 224,-201.5\"/>\n<text text-anchor=\"middle\" x=\"173.5\" y=\"-189.5\" font-family=\"monospace\" font-size=\"10.00\">AddmmBackward0</text>\n</g>\n<!-- 137132400966864&#45;&gt;137132400966000 -->\n<g id=\"edge4\" class=\"edge\">\n<title>137132400966864&#45;&gt;137132400966000</title>\n<path fill=\"none\" stroke=\"black\" d=\"M173.8,-182.37C174.07,-174.25 174.5,-161.81 174.85,-151.39\"/>\n<polygon fill=\"black\" stroke=\"black\" points=\"178.36,-151.28 175.2,-141.17 171.36,-151.04 178.36,-151.28\"/>\n</g>\n<!-- 137132400960336 -->\n<g id=\"node7\" class=\"node\">\n<title>137132400960336</title>\n<polygon fill=\"lightgrey\" stroke=\"black\" points=\"132,-267.5 31,-267.5 31,-248.5 132,-248.5 132,-267.5\"/>\n<text text-anchor=\"middle\" x=\"81.5\" y=\"-255.5\" font-family=\"monospace\" font-size=\"10.00\">AccumulateGrad</text>\n</g>\n<!-- 137132400960336&#45;&gt;137132400966864 -->\n<g id=\"edge5\" class=\"edge\">\n<title>137132400960336&#45;&gt;137132400966864</title>\n<path fill=\"none\" stroke=\"black\" d=\"M93.91,-248.37C108.86,-237.97 134.22,-220.32 152.3,-207.75\"/>\n<polygon fill=\"black\" stroke=\"black\" points=\"154.78,-210.28 161,-201.7 150.79,-204.54 154.78,-210.28\"/>\n</g>\n<!-- 137132386101072 -->\n<g id=\"node8\" class=\"node\">\n<title>137132386101072</title>\n<polygon fill=\"lightblue\" stroke=\"black\" points=\"108.5,-339 54.5,-339 54.5,-309 108.5,-309 108.5,-339\"/>\n<text text-anchor=\"middle\" x=\"81.5\" y=\"-327\" font-family=\"monospace\" font-size=\"10.00\">0.bias</text>\n<text text-anchor=\"middle\" x=\"81.5\" y=\"-316\" font-family=\"monospace\" font-size=\"10.00\"> (16)</text>\n</g>\n<!-- 137132386101072&#45;&gt;137132400960336 -->\n<g id=\"edge6\" class=\"edge\">\n<title>137132386101072&#45;&gt;137132400960336</title>\n<path fill=\"none\" stroke=\"black\" d=\"M81.5,-308.8C81.5,-299.7 81.5,-287.79 81.5,-277.9\"/>\n<polygon fill=\"black\" stroke=\"black\" points=\"85,-277.84 81.5,-267.84 78,-277.84 85,-277.84\"/>\n</g>\n<!-- 137132400962496 -->\n<g id=\"node9\" class=\"node\">\n<title>137132400962496</title>\n<polygon fill=\"lightgrey\" stroke=\"black\" points=\"227,-267.5 150,-267.5 150,-248.5 227,-248.5 227,-267.5\"/>\n<text text-anchor=\"middle\" x=\"188.5\" y=\"-255.5\" font-family=\"monospace\" font-size=\"10.00\">TBackward0</text>\n</g>\n<!-- 137132400962496&#45;&gt;137132400966864 -->\n<g id=\"edge7\" class=\"edge\">\n<title>137132400962496&#45;&gt;137132400966864</title>\n<path fill=\"none\" stroke=\"black\" d=\"M186.48,-248.37C184.3,-239.07 180.76,-223.98 177.93,-211.9\"/>\n<polygon fill=\"black\" stroke=\"black\" points=\"181.28,-210.84 175.59,-201.91 174.46,-212.44 181.28,-210.84\"/>\n</g>\n<!-- 137132400958176 -->\n<g id=\"node10\" class=\"node\">\n<title>137132400958176</title>\n<polygon fill=\"lightgrey\" stroke=\"black\" points=\"239,-333.5 138,-333.5 138,-314.5 239,-314.5 239,-333.5\"/>\n<text text-anchor=\"middle\" x=\"188.5\" y=\"-321.5\" font-family=\"monospace\" font-size=\"10.00\">AccumulateGrad</text>\n</g>\n<!-- 137132400958176&#45;&gt;137132400962496 -->\n<g id=\"edge8\" class=\"edge\">\n<title>137132400958176&#45;&gt;137132400962496</title>\n<path fill=\"none\" stroke=\"black\" d=\"M188.5,-314.37C188.5,-305.16 188.5,-290.29 188.5,-278.27\"/>\n<polygon fill=\"black\" stroke=\"black\" points=\"192,-277.91 188.5,-267.91 185,-277.91 192,-277.91\"/>\n</g>\n<!-- 137132384253440 -->\n<g id=\"node11\" class=\"node\">\n<title>137132384253440</title>\n<polygon fill=\"lightblue\" stroke=\"black\" points=\"221,-405 156,-405 156,-375 221,-375 221,-405\"/>\n<text text-anchor=\"middle\" x=\"188.5\" y=\"-393\" font-family=\"monospace\" font-size=\"10.00\">0.weight</text>\n<text text-anchor=\"middle\" x=\"188.5\" y=\"-382\" font-family=\"monospace\" font-size=\"10.00\"> (16, 4)</text>\n</g>\n<!-- 137132384253440&#45;&gt;137132400958176 -->\n<g id=\"edge9\" class=\"edge\">\n<title>137132384253440&#45;&gt;137132400958176</title>\n<path fill=\"none\" stroke=\"black\" d=\"M188.5,-374.8C188.5,-365.7 188.5,-353.79 188.5,-343.9\"/>\n<polygon fill=\"black\" stroke=\"black\" points=\"192,-343.84 188.5,-333.84 185,-343.84 192,-343.84\"/>\n</g>\n<!-- 137132400967104 -->\n<g id=\"node12\" class=\"node\">\n<title>137132400967104</title>\n<polygon fill=\"lightgrey\" stroke=\"black\" points=\"330,-141 253,-141 253,-122 330,-122 330,-141\"/>\n<text text-anchor=\"middle\" x=\"291.5\" y=\"-129\" font-family=\"monospace\" font-size=\"10.00\">TBackward0</text>\n</g>\n<!-- 137132400967104&#45;&gt;137132400961056 -->\n<g id=\"edge10\" class=\"edge\">\n<title>137132400967104&#45;&gt;137132400961056</title>\n<path fill=\"none\" stroke=\"black\" d=\"M272.86,-121.98C254.2,-113.46 225.25,-100.23 203.76,-90.41\"/>\n<polygon fill=\"black\" stroke=\"black\" points=\"205.03,-87.14 194.48,-86.17 202.12,-93.51 205.03,-87.14\"/>\n</g>\n<!-- 137132400967008 -->\n<g id=\"node13\" class=\"node\">\n<title>137132400967008</title>\n<polygon fill=\"lightgrey\" stroke=\"black\" points=\"343,-201.5 242,-201.5 242,-182.5 343,-182.5 343,-201.5\"/>\n<text text-anchor=\"middle\" x=\"292.5\" y=\"-189.5\" font-family=\"monospace\" font-size=\"10.00\">AccumulateGrad</text>\n</g>\n<!-- 137132400967008&#45;&gt;137132400967104 -->\n<g id=\"edge11\" class=\"edge\">\n<title>137132400967008&#45;&gt;137132400967104</title>\n<path fill=\"none\" stroke=\"black\" d=\"M292.35,-182.37C292.21,-174.25 292,-161.81 291.82,-151.39\"/>\n<polygon fill=\"black\" stroke=\"black\" points=\"295.32,-151.11 291.65,-141.17 288.32,-151.23 295.32,-151.11\"/>\n</g>\n<!-- 137132386094992 -->\n<g id=\"node14\" class=\"node\">\n<title>137132386094992</title>\n<polygon fill=\"lightblue\" stroke=\"black\" points=\"325,-273 260,-273 260,-243 325,-243 325,-273\"/>\n<text text-anchor=\"middle\" x=\"292.5\" y=\"-261\" font-family=\"monospace\" font-size=\"10.00\">2.weight</text>\n<text text-anchor=\"middle\" x=\"292.5\" y=\"-250\" font-family=\"monospace\" font-size=\"10.00\"> (3, 16)</text>\n</g>\n<!-- 137132386094992&#45;&gt;137132400967008 -->\n<g id=\"edge12\" class=\"edge\">\n<title>137132386094992&#45;&gt;137132400967008</title>\n<path fill=\"none\" stroke=\"black\" d=\"M292.5,-242.8C292.5,-233.7 292.5,-221.79 292.5,-211.9\"/>\n<polygon fill=\"black\" stroke=\"black\" points=\"296,-211.84 292.5,-201.84 289,-211.84 296,-211.84\"/>\n</g>\n</g>\n</svg>\n",
            "text/plain": [
              "<graphviz.graphs.Digraph at 0x7cb8a00bc400>"
            ]
          },
          "metadata": {},
          "execution_count": 81
        }
      ]
    },
    {
      "cell_type": "code",
      "source": [
        "from sklearn.metrics import accuracy_score"
      ],
      "metadata": {
        "id": "W-4uAbQGX6p4"
      },
      "execution_count": 82,
      "outputs": []
    },
    {
      "cell_type": "code",
      "source": [
        "data  = TensorDataset(xtrain, ytrain)\n",
        "train = DataLoader(data, batch_size=32, shuffle=True)"
      ],
      "metadata": {
        "id": "Xq3LYRZ5m_4_"
      },
      "execution_count": 83,
      "outputs": []
    },
    {
      "cell_type": "code",
      "source": [
        "len(xtrain)/32"
      ],
      "metadata": {
        "colab": {
          "base_uri": "https://localhost:8080/"
        },
        "id": "zgCEavpCZGjN",
        "outputId": "bd106c3a-124a-4eaa-ce8e-06fd409c91bc"
      },
      "execution_count": 100,
      "outputs": [
        {
          "output_type": "execute_result",
          "data": {
            "text/plain": [
              "3.5"
            ]
          },
          "metadata": {},
          "execution_count": 100
        }
      ]
    },
    {
      "cell_type": "code",
      "source": [
        "loss_fn = torch.nn.CrossEntropyLoss()\n",
        "optimizer = torch.optim.Adam(model.parameters(), lr=0.001)"
      ],
      "metadata": {
        "id": "g0xJ9blNXNMu"
      },
      "execution_count": 84,
      "outputs": []
    },
    {
      "cell_type": "code",
      "source": [
        "for epoch in range(20):\n",
        "    print(f'Epoch {epoch}')\n",
        "    for x_batch, y_batch in train:\n",
        "        pred = model(x_batch)\n",
        "        loss = loss_fn(pred, y_batch)\n",
        "\n",
        "        loss.backward()\n",
        "        optimizer.step()\n",
        "        optimizer.zero_grad()\n",
        "        pred = torch.argmax(pred, axis=-1)\n",
        "\n",
        "        print(f'Loss : {loss.item():.4f}  Accuracy:{accuracy_score(y_batch, pred)}')\n",
        "    print('_'*50)"
      ],
      "metadata": {
        "colab": {
          "base_uri": "https://localhost:8080/"
        },
        "id": "lys_A_0_nPgC",
        "outputId": "c284a896-494a-420c-e897-2c9bc3086414"
      },
      "execution_count": 96,
      "outputs": [
        {
          "output_type": "stream",
          "name": "stdout",
          "text": [
            "Epoch 0\n",
            "Loss : 0.4731  Accuracy:0.8125\n",
            "Loss : 0.5111  Accuracy:0.84375\n",
            "Loss : 0.5933  Accuracy:0.875\n",
            "Loss : 0.5467  Accuracy:0.875\n",
            "__________________________________________________\n",
            "Epoch 1\n",
            "Loss : 0.5472  Accuracy:0.84375\n",
            "Loss : 0.5363  Accuracy:0.875\n",
            "Loss : 0.5487  Accuracy:0.8125\n",
            "Loss : 0.4180  Accuracy:0.875\n",
            "__________________________________________________\n",
            "Epoch 2\n",
            "Loss : 0.4992  Accuracy:0.875\n",
            "Loss : 0.5781  Accuracy:0.75\n",
            "Loss : 0.4956  Accuracy:0.875\n",
            "Loss : 0.5170  Accuracy:0.9375\n",
            "__________________________________________________\n",
            "Epoch 3\n",
            "Loss : 0.5530  Accuracy:0.78125\n",
            "Loss : 0.5090  Accuracy:0.875\n",
            "Loss : 0.4964  Accuracy:0.875\n",
            "Loss : 0.5270  Accuracy:0.875\n",
            "__________________________________________________\n",
            "Epoch 4\n",
            "Loss : 0.5225  Accuracy:0.875\n",
            "Loss : 0.5147  Accuracy:0.78125\n",
            "Loss : 0.5190  Accuracy:0.90625\n",
            "Loss : 0.5123  Accuracy:0.8125\n",
            "__________________________________________________\n",
            "Epoch 5\n",
            "Loss : 0.5769  Accuracy:0.84375\n",
            "Loss : 0.3846  Accuracy:0.9375\n",
            "Loss : 0.5415  Accuracy:0.8125\n",
            "Loss : 0.6001  Accuracy:0.75\n",
            "__________________________________________________\n",
            "Epoch 6\n",
            "Loss : 0.4699  Accuracy:0.90625\n",
            "Loss : 0.5519  Accuracy:0.8125\n",
            "Loss : 0.5273  Accuracy:0.875\n",
            "Loss : 0.4903  Accuracy:0.75\n",
            "__________________________________________________\n",
            "Epoch 7\n",
            "Loss : 0.5202  Accuracy:0.84375\n",
            "Loss : 0.5659  Accuracy:0.8125\n",
            "Loss : 0.4250  Accuracy:0.90625\n",
            "Loss : 0.5472  Accuracy:0.8125\n",
            "__________________________________________________\n",
            "Epoch 8\n",
            "Loss : 0.5747  Accuracy:0.6875\n",
            "Loss : 0.5051  Accuracy:0.9375\n",
            "Loss : 0.4702  Accuracy:0.90625\n",
            "Loss : 0.4522  Accuracy:0.875\n",
            "__________________________________________________\n",
            "Epoch 9\n",
            "Loss : 0.4658  Accuracy:0.8125\n",
            "Loss : 0.4938  Accuracy:0.875\n",
            "Loss : 0.5707  Accuracy:0.8125\n",
            "Loss : 0.4732  Accuracy:0.9375\n",
            "__________________________________________________\n",
            "Epoch 10\n",
            "Loss : 0.4902  Accuracy:0.9375\n",
            "Loss : 0.4407  Accuracy:0.875\n",
            "Loss : 0.5922  Accuracy:0.71875\n",
            "Loss : 0.4705  Accuracy:0.875\n",
            "__________________________________________________\n",
            "Epoch 11\n",
            "Loss : 0.4415  Accuracy:0.84375\n",
            "Loss : 0.5107  Accuracy:0.875\n",
            "Loss : 0.5191  Accuracy:0.8125\n",
            "Loss : 0.5566  Accuracy:0.875\n",
            "__________________________________________________\n",
            "Epoch 12\n",
            "Loss : 0.4575  Accuracy:0.84375\n",
            "Loss : 0.5474  Accuracy:0.78125\n",
            "Loss : 0.4741  Accuracy:0.875\n",
            "Loss : 0.5244  Accuracy:0.9375\n",
            "__________________________________________________\n",
            "Epoch 13\n",
            "Loss : 0.4628  Accuracy:0.84375\n",
            "Loss : 0.5037  Accuracy:0.84375\n",
            "Loss : 0.4682  Accuracy:0.90625\n",
            "Loss : 0.5961  Accuracy:0.75\n",
            "__________________________________________________\n",
            "Epoch 14\n",
            "Loss : 0.4812  Accuracy:0.84375\n",
            "Loss : 0.5017  Accuracy:0.84375\n",
            "Loss : 0.4714  Accuracy:0.875\n",
            "Loss : 0.5409  Accuracy:0.8125\n",
            "__________________________________________________\n",
            "Epoch 15\n",
            "Loss : 0.4596  Accuracy:0.875\n",
            "Loss : 0.6031  Accuracy:0.6875\n",
            "Loss : 0.4379  Accuracy:0.9375\n",
            "Loss : 0.4321  Accuracy:0.9375\n",
            "__________________________________________________\n",
            "Epoch 16\n",
            "Loss : 0.4884  Accuracy:0.78125\n",
            "Loss : 0.5541  Accuracy:0.84375\n",
            "Loss : 0.4423  Accuracy:0.90625\n",
            "Loss : 0.4475  Accuracy:0.875\n",
            "__________________________________________________\n",
            "Epoch 17\n",
            "Loss : 0.4841  Accuracy:0.875\n",
            "Loss : 0.5272  Accuracy:0.875\n",
            "Loss : 0.4609  Accuracy:0.78125\n",
            "Loss : 0.4567  Accuracy:0.875\n",
            "__________________________________________________\n",
            "Epoch 18\n",
            "Loss : 0.5044  Accuracy:0.8125\n",
            "Loss : 0.4532  Accuracy:0.875\n",
            "Loss : 0.4788  Accuracy:0.90625\n",
            "Loss : 0.5133  Accuracy:0.75\n",
            "__________________________________________________\n",
            "Epoch 19\n",
            "Loss : 0.4774  Accuracy:0.84375\n",
            "Loss : 0.5911  Accuracy:0.65625\n",
            "Loss : 0.4107  Accuracy:0.96875\n",
            "Loss : 0.4108  Accuracy:1.0\n",
            "__________________________________________________\n"
          ]
        }
      ]
    },
    {
      "cell_type": "code",
      "source": [
        "pred = torch.argmax(model(xtest),axis=-1)"
      ],
      "metadata": {
        "id": "TaaGUld9nbws"
      },
      "execution_count": 108,
      "outputs": []
    },
    {
      "cell_type": "code",
      "source": [
        "accuracy_score(ytest, pred)"
      ],
      "metadata": {
        "colab": {
          "base_uri": "https://localhost:8080/"
        },
        "id": "LIaFY_1jZaH2",
        "outputId": "1abbca6b-0a5b-4937-d369-5425724d92e9"
      },
      "execution_count": 110,
      "outputs": [
        {
          "output_type": "execute_result",
          "data": {
            "text/plain": [
              "0.8947368421052632"
            ]
          },
          "metadata": {},
          "execution_count": 110
        }
      ]
    },
    {
      "cell_type": "code",
      "source": [],
      "metadata": {
        "id": "QYuY7YcAZapH"
      },
      "execution_count": null,
      "outputs": []
    }
  ]
}