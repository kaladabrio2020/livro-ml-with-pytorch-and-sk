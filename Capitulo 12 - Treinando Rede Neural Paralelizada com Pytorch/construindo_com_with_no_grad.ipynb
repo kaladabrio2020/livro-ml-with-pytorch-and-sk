{
 "cells": [
  {
   "cell_type": "code",
   "execution_count": 38,
   "metadata": {},
   "outputs": [],
   "source": [
    "import numpy as np\n",
    "import torch\n",
    "import matplotlib.pyplot as plt"
   ]
  },
  {
   "cell_type": "code",
   "execution_count": 39,
   "metadata": {},
   "outputs": [],
   "source": [
    "xtrain = np.arange(10, dtype=np.float32).reshape(-1, 1)"
   ]
  },
  {
   "cell_type": "code",
   "execution_count": 40,
   "metadata": {},
   "outputs": [],
   "source": [
    "ytrain = np.array([1, 1.3, 3.1, 2, 5, 6.3, 6.6, 7.4, 8, 9], dtype=np.float32)"
   ]
  },
  {
   "cell_type": "code",
   "execution_count": 41,
   "metadata": {},
   "outputs": [
    {
     "data": {
      "text/plain": [
       "<matplotlib.collections.PathCollection at 0x1fc4611f320>"
      ]
     },
     "execution_count": 41,
     "metadata": {},
     "output_type": "execute_result"
    },
    {
     "data": {
      "image/png": "[encoded data removed]",
      "text/plain": [
       "<Figure size 640x480 with 1 Axes>"
      ]
     },
     "metadata": {},
     "output_type": "display_data"
    }
   ],
   "source": [
    "plt.scatter(xtrain, ytrain)"
   ]
  },
  {
   "cell_type": "code",
   "execution_count": 42,
   "metadata": {},
   "outputs": [],
   "source": [
    "xnorm = (xtrain - np.mean(xtrain, axis=0)) / np.std(xtrain, axis=0)"
   ]
  },
  {
   "cell_type": "code",
   "execution_count": 43,
   "metadata": {},
   "outputs": [],
   "source": [
    "xtrain_ = torch.tensor(xnorm, dtype=torch.float32)"
   ]
  },
  {
   "cell_type": "code",
   "execution_count": 44,
   "metadata": {},
   "outputs": [],
   "source": [
    "ytrain_ = torch.tensor(ytrain.reshape(-1, 1), dtype=torch.float32)"
   ]
  },
  {
   "cell_type": "code",
   "execution_count": 45,
   "metadata": {},
   "outputs": [],
   "source": [
    "train = torch.utils.data.TensorDataset(xtrain_, ytrain_)"
   ]
  },
  {
   "cell_type": "code",
   "execution_count": 46,
   "metadata": {},
   "outputs": [],
   "source": [
    "train = torch.utils.data.DataLoader(\n",
    "    dataset=train, batch_size=2, shuffle=True\n",
    "    )"
   ]
  },
  {
   "cell_type": "markdown",
   "metadata": {},
   "source": [
    "definindo a função de perda"
   ]
  },
  {
   "cell_type": "code",
   "execution_count": 47,
   "metadata": {},
   "outputs": [],
   "source": [
    "def fn_loss(input_, target_):\n",
    "    return (input_ - target_).pow(2).mean()\n",
    "\n",
    "def fn_loss_2(input_, target_):\n",
    "\n",
    "    return (input_ - target_).pow(2).mean().sqrt()"
   ]
  },
  {
   "cell_type": "markdown",
   "metadata": {},
   "source": [
    "definindo o modelo"
   ]
  },
  {
   "cell_type": "code",
   "execution_count": 48,
   "metadata": {},
   "outputs": [],
   "source": [
    "torch.manual_seed(seed=1)\n",
    "\n",
    "pesos_ = torch.randn(1)\n",
    "pesos_.requires_grad_()\n",
    "bias_  = torch.zeros(1, requires_grad=True)\n",
    "\n",
    "def model(xb):\n",
    "    return xb @ pesos_ + bias_"
   ]
  },
  {
   "cell_type": "code",
   "execution_count": 49,
   "metadata": {},
   "outputs": [],
   "source": [
    "lr = 0.001\n",
    "log_epochs = 10"
   ]
  },
  {
   "cell_type": "code",
   "execution_count": 50,
   "metadata": {},
   "outputs": [],
   "source": [
    "import time\n",
    "def printing_(i,length_train, loss, sleep=0.1):\n",
    "    progress = i / len(train)\n",
    "    print(  f\"\\rBatch {i}/{length_train} \"\n",
    "            f\"[{int(progress * 20) * '='}>{int((1 - progress) * 30) * ' '}] \"\n",
    "            f\"{progress * 100:.2f}% - Loss: {loss:.4f}\", end=\"\")\n",
    "    time.sleep(sleep)\n",
    "    \n",
    "def final_epoch(l_loss):\n",
    "    print()\n",
    "    print(f'    > loss_mean:{np.mean(l_loss):2f}')"
   ]
  },
  {
   "cell_type": "code",
   "execution_count": 51,
   "metadata": {},
   "outputs": [
    {
     "name": "stdout",
     "output_type": "stream",
     "text": [
      "\n",
      "Batch 5/5 [====================>] 100.00% - Loss: 4.11871366776\n",
      "    > loss_mean:5.288383\n",
      "\n",
      "Batch 5/5 [====================>] 100.00% - Loss: 4.85480754633\n",
      "    > loss_mean:5.247834\n",
      "\n",
      "Batch 5/5 [====================>] 100.00% - Loss: 4.91273801573\n",
      "    > loss_mean:5.643866\n",
      "\n",
      "Batch 5/5 [====================>] 100.00% - Loss: 6.20454621281"
     ]
    }
   ],
   "source": [
    "len_ = len(train)\n",
    "melhor    = np.Inf\n",
    "\n",
    "count_ = 0\n",
    "paciencia = 3\n",
    "\n",
    "for epoch in range(10):\n",
    "\n",
    "    l_loss = []\n",
    "\n",
    "    for batch_i, (xbatch, ybatch) in enumerate(train, 1):\n",
    "        pred = model(xbatch)\n",
    "\n",
    "        loss = fn_loss_2(pred, ybatch)\n",
    "\n",
    "        loss.backward()\n",
    "        l_loss.append(loss.item())\n",
    "        if ( epoch % 10):\n",
    "            printing_(batch_i, len_, loss.item())\n",
    "\n",
    "        \n",
    "\n",
    "    if loss.item() < melhor:\n",
    "        melhor = loss.item()\n",
    "    else:\n",
    "        count_ += 1\n",
    "    \n",
    "    if count_ == paciencia:\n",
    "        break\n",
    "    with torch.no_grad():\n",
    "        pesos_ -= pesos_.grad * lr\n",
    "        bias_  -= bias_.grad * lr\n",
    "\n",
    "        pesos_.grad.zero_()\n",
    "        bias_.grad.zero_()\n",
    "    if ( epoch % 10):\n",
    "        final_epoch(l_loss)\n",
    "    print()\n",
    "    \n",
    "\n",
    "      \n",
    "        "
   ]
  },
  {
   "cell_type": "code",
   "execution_count": 52,
   "metadata": {},
   "outputs": [
    {
     "data": {
      "text/plain": [
       "[<matplotlib.lines.Line2D at 0x1fc464300b0>]"
      ]
     },
     "execution_count": 52,
     "metadata": {},
     "output_type": "execute_result"
    },
    {
     "data": {
      "image/png": "[encoded data removed]",
      "text/plain": [
       "<Figure size 640x480 with 1 Axes>"
      ]
     },
     "metadata": {},
     "output_type": "display_data"
    }
   ],
   "source": [
    "plt.scatter(xtrain_, ytrain_)\n",
    "plt.plot(xtrain_, model(xtrain_).detach())"
   ]
  },
  {
   "cell_type": "markdown",
   "metadata": {},
   "source": [
    "### Para o mtcars"
   ]
  },
  {
   "cell_type": "code",
   "execution_count": 53,
   "metadata": {},
   "outputs": [],
   "source": [
    "import statsmodels\n",
    "import pandas as pd\n",
    "import torch\n",
    "from torch.utils.data import TensorDataset, DataLoader\n",
    "from sklearn.model_selection import train_test_split\n",
    "from sklearn.metrics import r2_score"
   ]
  },
  {
   "cell_type": "code",
   "execution_count": 54,
   "metadata": {},
   "outputs": [],
   "source": [
    "import statsmodels.api\n",
    "data = statsmodels.api.datasets.get_rdataset('mtcars').data"
   ]
  },
  {
   "cell_type": "code",
   "execution_count": 55,
   "metadata": {},
   "outputs": [
    {
     "data": {
      "text/html": [
       "<div>\n",
       "<style scoped>\n",
       "    .dataframe tbody tr th:only-of-type {\n",
       "        vertical-align: middle;\n",
       "    }\n",
       "\n",
       "    .dataframe tbody tr th {\n",
       "        vertical-align: top;\n",
       "    }\n",
       "\n",
       "    .dataframe thead th {\n",
       "        text-align: right;\n",
       "    }\n",
       "</style>\n",
       "<table border=\"1\" class=\"dataframe\">\n",
       "  <thead>\n",
       "    <tr style=\"text-align: right;\">\n",
       "      <th></th>\n",
       "      <th>mpg</th>\n",
       "      <th>cyl</th>\n",
       "      <th>disp</th>\n",
       "      <th>hp</th>\n",
       "      <th>drat</th>\n",
       "      <th>wt</th>\n",
       "      <th>qsec</th>\n",
       "      <th>vs</th>\n",
       "      <th>am</th>\n",
       "      <th>gear</th>\n",
       "      <th>carb</th>\n",
       "    </tr>\n",
       "    <tr>\n",
       "      <th>rownames</th>\n",
       "      <th></th>\n",
       "      <th></th>\n",
       "      <th></th>\n",
       "      <th></th>\n",
       "      <th></th>\n",
       "      <th></th>\n",
       "      <th></th>\n",
       "      <th></th>\n",
       "      <th></th>\n",
       "      <th></th>\n",
       "      <th></th>\n",
       "    </tr>\n",
       "  </thead>\n",
       "  <tbody>\n",
       "    <tr>\n",
       "      <th>Mazda RX4</th>\n",
       "      <td>21.0</td>\n",
       "      <td>6</td>\n",
       "      <td>160.0</td>\n",
       "      <td>110</td>\n",
       "      <td>3.9</td>\n",
       "      <td>2.620</td>\n",
       "      <td>16.46</td>\n",
       "      <td>0</td>\n",
       "      <td>1</td>\n",
       "      <td>4</td>\n",
       "      <td>4</td>\n",
       "    </tr>\n",
       "    <tr>\n",
       "      <th>Mazda RX4 Wag</th>\n",
       "      <td>21.0</td>\n",
       "      <td>6</td>\n",
       "      <td>160.0</td>\n",
       "      <td>110</td>\n",
       "      <td>3.9</td>\n",
       "      <td>2.875</td>\n",
       "      <td>17.02</td>\n",
       "      <td>0</td>\n",
       "      <td>1</td>\n",
       "      <td>4</td>\n",
       "      <td>4</td>\n",
       "    </tr>\n",
       "  </tbody>\n",
       "</table>\n",
       "</div>"
      ],
      "text/plain": [
       "                mpg  cyl   disp   hp  drat     wt   qsec  vs  am  gear  carb\n",
       "rownames                                                                    \n",
       "Mazda RX4      21.0    6  160.0  110   3.9  2.620  16.46   0   1     4     4\n",
       "Mazda RX4 Wag  21.0    6  160.0  110   3.9  2.875  17.02   0   1     4     4"
      ]
     },
     "execution_count": 55,
     "metadata": {},
     "output_type": "execute_result"
    }
   ],
   "source": [
    "data.head(2)"
   ]
  },
  {
   "cell_type": "code",
   "execution_count": 56,
   "metadata": {},
   "outputs": [
    {
     "data": {
      "text/plain": [
       "mpg     25\n",
       "cyl      3\n",
       "disp    27\n",
       "hp      22\n",
       "drat    22\n",
       "wt      29\n",
       "qsec    30\n",
       "vs       2\n",
       "am       2\n",
       "gear     3\n",
       "carb     6\n",
       "dtype: int64"
      ]
     },
     "execution_count": 56,
     "metadata": {},
     "output_type": "execute_result"
    }
   ],
   "source": [
    "data.nunique()"
   ]
  },
  {
   "cell_type": "code",
   "execution_count": 57,
   "metadata": {},
   "outputs": [],
   "source": [
    "data = pd.get_dummies(data, columns=['cyl', 'vs', 'am', 'gear', 'carb'], dtype=int)"
   ]
  },
  {
   "cell_type": "code",
   "execution_count": 58,
   "metadata": {},
   "outputs": [],
   "source": [
    "y = data['mpg'].values\n",
    "X = data.drop(columns=['mpg']).values"
   ]
  },
  {
   "cell_type": "code",
   "execution_count": 59,
   "metadata": {},
   "outputs": [],
   "source": [
    "xtrain, xtest, ytrain, ytest = train_test_split(X, y.reshape(-1, 1), train_size=0.8, random_state=42)"
   ]
  },
  {
   "cell_type": "code",
   "execution_count": 60,
   "metadata": {},
   "outputs": [
    {
     "data": {
      "text/plain": [
       "(21,)"
      ]
     },
     "execution_count": 60,
     "metadata": {},
     "output_type": "execute_result"
    }
   ],
   "source": [
    "xtrain.shape[1:]"
   ]
  },
  {
   "cell_type": "markdown",
   "metadata": {},
   "source": [
    "criando tensores"
   ]
  },
  {
   "cell_type": "code",
   "execution_count": 61,
   "metadata": {},
   "outputs": [],
   "source": [
    "#treinamento\n",
    "xtrain_ = torch.tensor( xtrain , dtype=torch.float32)\n",
    "ytrain_ = torch.tensor( ytrain , dtype=torch.float32)\n",
    "\n",
    "# teste\n",
    "xtest_ = torch.tensor( xtest , dtype=torch.float32)\n",
    "ytest_ = torch.tensor( ytest , dtype=torch.float32)"
   ]
  },
  {
   "cell_type": "code",
   "execution_count": 62,
   "metadata": {},
   "outputs": [
    {
     "data": {
      "text/plain": [
       "tensor(78.5120)"
      ]
     },
     "execution_count": 62,
     "metadata": {},
     "output_type": "execute_result"
    }
   ],
   "source": [
    "xtrain_[:, :5].mean()"
   ]
  },
  {
   "cell_type": "code",
   "execution_count": 63,
   "metadata": {},
   "outputs": [],
   "source": [
    "xtrain_[:, :5] = (xtrain_[:, :5]- xtrain_[:, :5].mean(dim=0)) / xtrain_[:, :5].std(dim=0)\n",
    "xtest_[:, :5]  = (xtest_[:, :5]  - xtest_[:, :5].mean(dim=0)) / xtest_[:, :5].std(dim=0) "
   ]
  },
  {
   "cell_type": "code",
   "execution_count": 64,
   "metadata": {},
   "outputs": [
    {
     "data": {
      "text/plain": [
       "tensor([-1.2354, -1.1935,  0.8473, -1.2368,  0.7201,  1.0000,  0.0000,  0.0000,\n",
       "         0.0000,  1.0000,  0.0000,  1.0000,  0.0000,  1.0000,  0.0000,  1.0000,\n",
       "         0.0000,  0.0000,  0.0000,  0.0000,  0.0000])"
      ]
     },
     "execution_count": 64,
     "metadata": {},
     "output_type": "execute_result"
    }
   ],
   "source": [
    "xtrain_[0, :]"
   ]
  },
  {
   "cell_type": "markdown",
   "metadata": {},
   "source": [
    "criando dataloader"
   ]
  },
  {
   "cell_type": "code",
   "execution_count": 65,
   "metadata": {},
   "outputs": [
    {
     "data": {
      "text/plain": [
       "2"
      ]
     },
     "execution_count": 65,
     "metadata": {},
     "output_type": "execute_result"
    }
   ],
   "source": [
    "xtrain_.shape[0] // 10"
   ]
  },
  {
   "cell_type": "code",
   "execution_count": 66,
   "metadata": {},
   "outputs": [],
   "source": [
    "train = TensorDataset(xtrain_, ytrain_)\n",
    "train = DataLoader(\n",
    "    dataset = train, batch_size=10, shuffle=True, drop_last=True\n",
    ")"
   ]
  },
  {
   "cell_type": "markdown",
   "metadata": {},
   "source": [
    "criando o modelo"
   ]
  },
  {
   "cell_type": "markdown",
   "metadata": {},
   "source": [
    "$\\frac{\\sum (y_i - \\^y_i)^2 }{\\sum (y_i - \\bar y)^2}$"
   ]
  },
  {
   "cell_type": "code",
   "execution_count": 67,
   "metadata": {},
   "outputs": [],
   "source": [
    "def RSE_loss(input_:torch.Tensor, output_:torch.Tensor):\n",
    "    return    torch.sum( (input_ - output_).pow(2) ) \\\n",
    "            / torch.sum( (input_ - input_.mean()).pow(2) )  "
   ]
  },
  {
   "cell_type": "markdown",
   "metadata": {},
   "source": [
    "criando o modelo de train"
   ]
  },
  {
   "cell_type": "code",
   "execution_count": 68,
   "metadata": {},
   "outputs": [],
   "source": [
    "torch.manual_seed(seed=32)\n",
    "weight = torch.randn(21, dtype=torch.float32)\n",
    "weight.requires_grad_()\n",
    "bias   = torch.zeros(1, requires_grad=True)\n",
    "    \n",
    "def modelo(x):\n",
    "    p_ = weight.add(bias).reshape(-1, 1)\n",
    "    return x @ p_"
   ]
  },
  {
   "cell_type": "code",
   "execution_count": 69,
   "metadata": {},
   "outputs": [
    {
     "name": "stdout",
     "output_type": "stream",
     "text": [
      "Batch 2/2 [====================>] 100.00% - Loss: 13.43627808\n",
      "Batch 2/2 [====================>] 100.00% - Loss: 37.02020997\n",
      "Batch 2/2 [====================>] 100.00% - Loss: 14.65253717\n",
      "Batch 2/2 [====================>] 100.00% - Loss: 12.80815139\n",
      "Batch 2/2 [====================>] 100.00% - Loss: 11.31042141\n",
      "Batch 2/2 [====================>] 100.00% - Loss: 19.19526628\n",
      "Batch 2/2 [====================>] 100.00% - Loss: 10.12138533\n",
      "Batch 2/2 [====================>] 100.00% - Loss: 8.6874.6918\n",
      "Batch 2/2 [====================>] 100.00% - Loss: 18.85931161\n",
      "Batch 2/2 [====================>] 100.00% - Loss: 9.4458.5620\n",
      "Batch 2/2 [====================>] 100.00% - Loss: 12.37723726\n",
      "Batch 2/2 [====================>] 100.00% - Loss: 11.70722218\n",
      "Batch 2/2 [====================>] 100.00% - Loss: 14.70400920\n",
      "Batch 2/2 [====================>] 100.00% - Loss: 12.70650692\n",
      "Batch 2/2 [====================>] 100.00% - Loss: 13.66767792\n",
      "Batch 2/2 [====================>] 100.00% - Loss: 12.80491951\n",
      "Batch 2/2 [====================>] 100.00% - Loss: 10.03185227\n",
      "Batch 2/2 [====================>] 100.00% - Loss: 10.30661512\n",
      "Batch 2/2 [====================>] 100.00% - Loss: 36.39749330\n",
      "Batch 2/2 [====================>] 100.00% - Loss: 11.75327686\n",
      "Batch 2/2 [====================>] 100.00% - Loss: 10.89713911\n",
      "Batch 2/2 [====================>] 100.00% - Loss: 10.82271103\n",
      "Batch 2/2 [====================>] 100.00% - Loss: 8.4525.8058\n",
      "Batch 2/2 [====================>] 100.00% - Loss: 11.19194628\n",
      "Batch 2/2 [====================>] 100.00% - Loss: 9.9223.5098\n",
      "Batch 2/2 [====================>] 100.00% - Loss: 12.12064487\n",
      "Batch 2/2 [====================>] 100.00% - Loss: 14.9844884\n",
      "Batch 2/2 [====================>] 100.00% - Loss: 11.79541807\n",
      "Batch 2/2 [====================>] 100.00% - Loss: 11.63936875\n",
      "Batch 2/2 [====================>] 100.00% - Loss: 8.7526.6250\n",
      "Batch 2/2 [====================>] 100.00% - Loss: 11.14399614\n",
      "Batch 2/2 [====================>] 100.00% - Loss: 12.1949178\n",
      "Batch 2/2 [====================>] 100.00% - Loss: 27.19729442\n",
      "Batch 2/2 [====================>] 100.00% - Loss: 16.0065665\n",
      "Batch 2/2 [====================>] 100.00% - Loss: 9.9389.6400\n",
      "Batch 2/2 [====================>] 100.00% - Loss: 10.20039988\n",
      "Batch 2/2 [====================>] 100.00% - Loss: 8.2185.4786\n",
      "Batch 2/2 [====================>] 100.00% - Loss: 12.12611607\n",
      "Batch 2/2 [====================>] 100.00% - Loss: 12.67734136\n",
      "Batch 2/2 [====================>] 100.00% - Loss: 8.0709.1504\n",
      "Batch 2/2 [====================>] 100.00% - Loss: 14.5419148\n",
      "Batch 2/2 [====================>] 100.00% - Loss: 12.06315900\n",
      "Batch 2/2 [====================>] 100.00% - Loss: 18.4757282\n",
      "Batch 2/2 [====================>] 100.00% - Loss: 9.2771.9979\n",
      "Batch 2/2 [====================>] 100.00% - Loss: 8.9944.1790\n",
      "Batch 2/2 [====================>] 100.00% - Loss: 10.27523657\n",
      "Batch 2/2 [====================>] 100.00% - Loss: 22.2338463\n",
      "Batch 2/2 [====================>] 100.00% - Loss: 7.6840.0106\n",
      "Batch 2/2 [====================>] 100.00% - Loss: 16.7776014\n",
      "Batch 2/2 [====================>] 100.00% - Loss: 8.1852.3204\n",
      "Batch 2/2 [====================>] 100.00% - Loss: 11.23885092\n",
      "Batch 2/2 [====================>] 100.00% - Loss: 7.6949.6816\n",
      "Batch 2/2 [====================>] 100.00% - Loss: 8.9338.4738\n",
      "Batch 2/2 [====================>] 100.00% - Loss: 10.36398501\n",
      "Batch 2/2 [====================>] 100.00% - Loss: 12.8602714\n",
      "Batch 2/2 [====================>] 100.00% - Loss: 13.3860178\n",
      "Batch 2/2 [====================>] 100.00% - Loss: 16.8649871\n",
      "Batch 2/2 [====================>] 100.00% - Loss: 14.6210209\n",
      "Batch 2/2 [====================>] 100.00% - Loss: 22.1763874\n",
      "Batch 2/2 [====================>] 100.00% - Loss: 10.69440823\n",
      "Batch 2/2 [====================>] 100.00% - Loss: 12.5224628\n",
      "Batch 2/2 [====================>] 100.00% - Loss: 9.27457310\n",
      "Batch 2/2 [====================>] 100.00% - Loss: 6.59913375\n",
      "Batch 2/2 [====================>] 100.00% - Loss: 6.66924353\n",
      "Batch 2/2 [====================>] 100.00% - Loss: 6.1873.2341\n",
      "Batch 2/2 [====================>] 100.00% - Loss: 10.0915230\n",
      "Batch 2/2 [====================>] 100.00% - Loss: 13.4938194\n",
      "Batch 2/2 [====================>] 100.00% - Loss: 7.3879.3264\n",
      "Batch 2/2 [====================>] 100.00% - Loss: 15.1522845\n",
      "Batch 2/2 [====================>] 100.00% - Loss: 7.7511.4205\n",
      "Batch 2/2 [====================>] 100.00% - Loss: 12.9688547\n",
      "Batch 2/2 [====================>] 100.00% - Loss: 8.78479257\n",
      "Batch 2/2 [====================>] 100.00% - Loss: 9.5487.3688\n",
      "Batch 2/2 [====================>] 100.00% - Loss: 16.2636977\n",
      "Batch 2/2 [====================>] 100.00% - Loss: 7.42808974\n",
      "Batch 2/2 [====================>] 100.00% - Loss: 7.1848.2087\n",
      "Batch 2/2 [====================>] 100.00% - Loss: 7.32438192\n",
      "Batch 2/2 [====================>] 100.00% - Loss: 13.2967264\n",
      "Batch 2/2 [====================>] 100.00% - Loss: 6.7906.5193\n",
      "Batch 2/2 [====================>] 100.00% - Loss: 8.73958754\n",
      "Batch 2/2 [====================>] 100.00% - Loss: 12.6151017\n",
      "Batch 2/2 [====================>] 100.00% - Loss: 8.9550.4500\n",
      "Batch 2/2 [====================>] 100.00% - Loss: 11.0168108\n",
      "Batch 2/2 [====================>] 100.00% - Loss: 5.7043.4345\n",
      "Batch 2/2 [====================>] 100.00% - Loss: 9.39639907\n",
      "Batch 2/2 [====================>] 100.00% - Loss: 7.03007803\n",
      "Batch 2/2 [====================>] 100.00% - Loss: 5.2628.4307\n",
      "Batch 2/2 [====================>] 100.00% - Loss: 10.7342852\n",
      "Batch 2/2 [====================>] 100.00% - Loss: 5.7659.9556\n",
      "Batch 2/2 [====================>] 100.00% - Loss: 6.69358975\n",
      "Batch 2/2 [====================>] 100.00% - Loss: 13.8322685\n",
      "Batch 2/2 [====================>] 100.00% - Loss: 12.6223972\n",
      "Batch 2/2 [====================>] 100.00% - Loss: 15.1562822\n",
      "Batch 2/2 [====================>] 100.00% - Loss: 6.92310465\n",
      "Batch 2/2 [====================>] 100.00% - Loss: 5.3465.3482\n",
      "Batch 2/2 [====================>] 100.00% - Loss: 8.94128870\n",
      "Batch 2/2 [====================>] 100.00% - Loss: 8.00395600\n",
      "Batch 2/2 [====================>] 100.00% - Loss: 11.3151959\n",
      "Batch 2/2 [====================>] 100.00% - Loss: 6.11663660\n",
      "Batch 2/2 [====================>] 100.00% - Loss: 8.0375.6906\n"
     ]
    }
   ],
   "source": [
    "epoch= 100\n",
    "lr_ = 0.001\n",
    "melhor_, count_ = torch.inf, 0   \n",
    "mean_r2, mean_loss = [], []\n",
    "\n",
    "for epoch in range(epoch):\n",
    "    loss_list, r2_list = [], []\n",
    "\n",
    "    if paciencia == count_: break\n",
    "\n",
    "    for enum_, (xbatch, ybatch) in enumerate(train, 1):\n",
    "        pred = modelo(xbatch)\n",
    "        loss = RSE_loss(ybatch, pred)\n",
    "        loss.backward()\n",
    "\n",
    "        printing_(enum_, len(train), loss.item(), 0.1)\n",
    "        r2_list.append(r2_score(pred.detach(), ybatch))\n",
    "        loss_list.append(loss.item())\n",
    "        \n",
    "        \n",
    "    with torch.no_grad():\n",
    "        weight -= weight.grad * lr_\n",
    "        bias -= bias.grad * lr_\n",
    "            \n",
    "        weight.grad.zero_()\n",
    "        bias.grad.zero_()\n",
    "            \n",
    "    print()\n",
    "            \n",
    "    mean_loss.append(np.mean(loss_list))\n",
    "    mean_r2.append(np.mean(r2_list))"
   ]
  },
  {
   "cell_type": "code",
   "execution_count": 70,
   "metadata": {},
   "outputs": [
    {
     "data": {
      "text/plain": [
       "[<matplotlib.lines.Line2D at 0x1fc4622dd60>]"
      ]
     },
     "execution_count": 70,
     "metadata": {},
     "output_type": "execute_result"
    },
    {
     "data": {
      "image/png": "[encoded data removed]",
      "text/plain": [
       "<Figure size 640x480 with 1 Axes>"
      ]
     },
     "metadata": {},
     "output_type": "display_data"
    }
   ],
   "source": [
    "plt.plot(mean_loss)"
   ]
  },
  {
   "cell_type": "code",
   "execution_count": 71,
   "metadata": {},
   "outputs": [
    {
     "data": {
      "text/plain": [
       "[<matplotlib.lines.Line2D at 0x1fc46286cc0>]"
      ]
     },
     "execution_count": 71,
     "metadata": {},
     "output_type": "execute_result"
    },
    {
     "data": {
      "image/png": "[encoded data removed]",
      "text/plain": [
       "<Figure size 640x480 with 1 Axes>"
      ]
     },
     "metadata": {},
     "output_type": "display_data"
    }
   ],
   "source": [
    "plt.plot(mean_r2)"
   ]
  },
  {
   "cell_type": "code",
   "execution_count": 72,
   "metadata": {},
   "outputs": [
    {
     "ename": "SyntaxError",
     "evalue": "incomplete input (1735896573.py, line 2)",
     "output_type": "error",
     "traceback": [
      "\u001b[1;36m  Cell \u001b[1;32mIn[72], line 2\u001b[1;36m\u001b[0m\n\u001b[1;33m    \u001b[0m\n\u001b[1;37m    ^\u001b[0m\n\u001b[1;31mSyntaxError\u001b[0m\u001b[1;31m:\u001b[0m incomplete input\n"
     ]
    }
   ],
   "source": [
    "with torch.no_grad():\n",
    "    "
   ]
  }
 ],
 "metadata": {
  "kernelspec": {
   "display_name": "Python 3",
   "language": "python",
   "name": "python3"
  },
  "language_info": {
   "codemirror_mode": {
    "name": "ipython",
    "version": 3
   },
   "file_extension": ".py",
   "mimetype": "text/x-python",
   "name": "python",
   "nbconvert_exporter": "python",
   "pygments_lexer": "ipython3",
   "version": "3.12.6"
  }
 },
 "nbformat": 4,
 "nbformat_minor": 2
}
