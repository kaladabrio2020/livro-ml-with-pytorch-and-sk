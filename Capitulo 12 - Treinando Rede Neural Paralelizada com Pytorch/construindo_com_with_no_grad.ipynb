{
 "cells": [
  {
   "cell_type": "code",
   "execution_count": 69,
   "metadata": {},
   "outputs": [],
   "source": [
    "import numpy as np\n",
    "import torch\n",
    "import matplotlib.pyplot as plt"
   ]
  },
  {
   "cell_type": "code",
   "execution_count": 70,
   "metadata": {},
   "outputs": [],
   "source": [
    "xtrain = np.arange(10, dtype=np.float32).reshape(-1, 1)"
   ]
  },
  {
   "cell_type": "code",
   "execution_count": 71,
   "metadata": {},
   "outputs": [],
   "source": [
    "ytrain = np.array([1, 1.3, 3.1, 2, 5, 6.3, 6.6, 7.4, 8, 9], dtype=np.float32)"
   ]
  },
  {
   "cell_type": "code",
   "execution_count": 72,
   "metadata": {},
   "outputs": [
    {
     "data": {
      "text/plain": [
       "<matplotlib.collections.PathCollection at 0x1f9f9627470>"
      ]
     },
     "execution_count": 72,
     "metadata": {},
     "output_type": "execute_result"
    },
    {
     "data": {
      "image/png": "[encoded data removed]",
      "text/plain": [
       "<Figure size 640x480 with 1 Axes>"
      ]
     },
     "metadata": {},
     "output_type": "display_data"
    }
   ],
   "source": [
    "plt.scatter(xtrain, ytrain)"
   ]
  },
  {
   "cell_type": "code",
   "execution_count": 73,
   "metadata": {},
   "outputs": [],
   "source": [
    "xnorm = (xtrain - np.mean(xtrain)) / np.std(xtrain)"
   ]
  },
  {
   "cell_type": "code",
   "execution_count": 74,
   "metadata": {},
   "outputs": [],
   "source": [
    "xtrain_ = torch.tensor(xnorm, dtype=torch.float32)"
   ]
  },
  {
   "cell_type": "code",
   "execution_count": 75,
   "metadata": {},
   "outputs": [],
   "source": [
    "ytrain_ = torch.tensor(ytrain.reshape(-1, 1), dtype=torch.float32)"
   ]
  },
  {
   "cell_type": "code",
   "execution_count": 76,
   "metadata": {},
   "outputs": [],
   "source": [
    "train = torch.utils.data.TensorDataset(xtrain_, ytrain_)"
   ]
  },
  {
   "cell_type": "code",
   "execution_count": 77,
   "metadata": {},
   "outputs": [],
   "source": [
    "train = torch.utils.data.DataLoader(\n",
    "    dataset=train, batch_size=2, shuffle=True\n",
    "    )"
   ]
  },
  {
   "cell_type": "markdown",
   "metadata": {},
   "source": [
    "definindo a função de perda"
   ]
  },
  {
   "cell_type": "code",
   "execution_count": 78,
   "metadata": {},
   "outputs": [],
   "source": [
    "def fn_loss(input_, target_):\n",
    "    return (input_ - target_).pow(2).mean()\n",
    "\n",
    "def fn_loss_2(input_, target_):\n",
    "\n",
    "    return (input_ - target_).pow(2).mean().sqrt()"
   ]
  },
  {
   "cell_type": "markdown",
   "metadata": {},
   "source": [
    "definindo o modelo"
   ]
  },
  {
   "cell_type": "code",
   "execution_count": 79,
   "metadata": {},
   "outputs": [],
   "source": [
    "torch.manual_seed(seed=1)\n",
    "\n",
    "pesos_ = torch.randn(1)\n",
    "pesos_.requires_grad_()\n",
    "bias_  = torch.zeros(1, requires_grad=True)\n",
    "\n",
    "def model(xb):\n",
    "    return xb @ pesos_ + bias_"
   ]
  },
  {
   "cell_type": "code",
   "execution_count": 80,
   "metadata": {},
   "outputs": [],
   "source": [
    "lr = 0.001\n",
    "log_epochs = 10"
   ]
  },
  {
   "cell_type": "code",
   "execution_count": 81,
   "metadata": {},
   "outputs": [],
   "source": [
    "import time\n",
    "def printing_(i,length_train, loss, sleep=0.1):\n",
    "    progress = i / len(train)\n",
    "    print(  f\"\\rBatch {i}/{length_train} \"\n",
    "            f\"[{int(progress * 20) * '='}>{int((1 - progress) * 30) * ' '}] \"\n",
    "            f\"{progress * 100:.2f}% - Loss: {loss:.4f}\", end=\"\")\n",
    "    time.sleep(sleep)\n",
    "    \n",
    "def final_epoch(l_loss):\n",
    "    print()\n",
    "    print(f'    > loss_mean:{np.mean(l_loss):2f}')"
   ]
  },
  {
   "cell_type": "code",
   "execution_count": 82,
   "metadata": {},
   "outputs": [
    {
     "name": "stdout",
     "output_type": "stream",
     "text": [
      "\n",
      "Batch 5/5 [====================>] 100.00% - Loss: 4.11871366776\n",
      "    > loss_mean:5.288383\n",
      "\n",
      "Batch 5/5 [====================>] 100.00% - Loss: 4.85480754633\n",
      "    > loss_mean:5.247834\n",
      "\n",
      "Batch 5/5 [====================>] 100.00% - Loss: 4.91273801573\n",
      "    > loss_mean:5.643866\n",
      "\n",
      "Batch 5/5 [====================>] 100.00% - Loss: 6.20454621281"
     ]
    }
   ],
   "source": [
    "len_ = len(train)\n",
    "melhor    = np.Inf\n",
    "\n",
    "count_ = 0\n",
    "paciencia = 3\n",
    "\n",
    "for epoch in range(10):\n",
    "\n",
    "    l_loss = []\n",
    "\n",
    "    for batch_i, (xbatch, ybatch) in enumerate(train, 1):\n",
    "        pred = model(xbatch)\n",
    "\n",
    "        loss = fn_loss_2(pred, ybatch)\n",
    "\n",
    "        loss.backward()\n",
    "        l_loss.append(loss.item())\n",
    "        if ( epoch % 10):\n",
    "            printing_(batch_i, len_, loss.item())\n",
    "\n",
    "        \n",
    "\n",
    "    if loss.item() < melhor:\n",
    "        melhor = loss.item()\n",
    "    else:\n",
    "        count_ += 1\n",
    "    \n",
    "    if count_ == paciencia:\n",
    "        break\n",
    "    with torch.no_grad():\n",
    "        pesos_ -= pesos_.grad * lr\n",
    "        bias_  -= bias_.grad * lr\n",
    "\n",
    "        pesos_.grad.zero_()\n",
    "        bias_.grad.zero_()\n",
    "    if ( epoch % 10):\n",
    "        final_epoch(l_loss)\n",
    "    print()\n",
    "    \n",
    "\n",
    "      \n",
    "        "
   ]
  },
  {
   "cell_type": "code",
   "execution_count": 83,
   "metadata": {},
   "outputs": [
    {
     "data": {
      "text/plain": [
       "[<matplotlib.lines.Line2D at 0x1f9f98efb60>]"
      ]
     },
     "execution_count": 83,
     "metadata": {},
     "output_type": "execute_result"
    },
    {
     "data": {
      "image/png": "[encoded data removed]",
      "text/plain": [
       "<Figure size 640x480 with 1 Axes>"
      ]
     },
     "metadata": {},
     "output_type": "display_data"
    }
   ],
   "source": [
    "plt.scatter(xtrain_, ytrain_)\n",
    "plt.plot(xtrain_, model(xtrain_).detach())"
   ]
  },
  {
   "cell_type": "markdown",
   "metadata": {},
   "source": [
    "### Para o mtcars"
   ]
  },
  {
   "cell_type": "code",
   "execution_count": 129,
   "metadata": {},
   "outputs": [],
   "source": [
    "import statsmodels\n",
    "import pandas as pd\n",
    "import torch\n",
    "from torch.utils.data import TensorDataset, DataLoader\n",
    "from sklearn.model_selection import train_test_split\n",
    "from sklearn.metrics import r2_score"
   ]
  },
  {
   "cell_type": "code",
   "execution_count": 130,
   "metadata": {},
   "outputs": [],
   "source": [
    "import statsmodels.api\n",
    "data = statsmodels.api.datasets.get_rdataset('mtcars').data"
   ]
  },
  {
   "cell_type": "code",
   "execution_count": 131,
   "metadata": {},
   "outputs": [
    {
     "data": {
      "text/html": [
       "<div>\n",
       "<style scoped>\n",
       "    .dataframe tbody tr th:only-of-type {\n",
       "        vertical-align: middle;\n",
       "    }\n",
       "\n",
       "    .dataframe tbody tr th {\n",
       "        vertical-align: top;\n",
       "    }\n",
       "\n",
       "    .dataframe thead th {\n",
       "        text-align: right;\n",
       "    }\n",
       "</style>\n",
       "<table border=\"1\" class=\"dataframe\">\n",
       "  <thead>\n",
       "    <tr style=\"text-align: right;\">\n",
       "      <th></th>\n",
       "      <th>mpg</th>\n",
       "      <th>cyl</th>\n",
       "      <th>disp</th>\n",
       "      <th>hp</th>\n",
       "      <th>drat</th>\n",
       "      <th>wt</th>\n",
       "      <th>qsec</th>\n",
       "      <th>vs</th>\n",
       "      <th>am</th>\n",
       "      <th>gear</th>\n",
       "      <th>carb</th>\n",
       "    </tr>\n",
       "    <tr>\n",
       "      <th>rownames</th>\n",
       "      <th></th>\n",
       "      <th></th>\n",
       "      <th></th>\n",
       "      <th></th>\n",
       "      <th></th>\n",
       "      <th></th>\n",
       "      <th></th>\n",
       "      <th></th>\n",
       "      <th></th>\n",
       "      <th></th>\n",
       "      <th></th>\n",
       "    </tr>\n",
       "  </thead>\n",
       "  <tbody>\n",
       "    <tr>\n",
       "      <th>Mazda RX4</th>\n",
       "      <td>21.0</td>\n",
       "      <td>6</td>\n",
       "      <td>160.0</td>\n",
       "      <td>110</td>\n",
       "      <td>3.9</td>\n",
       "      <td>2.620</td>\n",
       "      <td>16.46</td>\n",
       "      <td>0</td>\n",
       "      <td>1</td>\n",
       "      <td>4</td>\n",
       "      <td>4</td>\n",
       "    </tr>\n",
       "    <tr>\n",
       "      <th>Mazda RX4 Wag</th>\n",
       "      <td>21.0</td>\n",
       "      <td>6</td>\n",
       "      <td>160.0</td>\n",
       "      <td>110</td>\n",
       "      <td>3.9</td>\n",
       "      <td>2.875</td>\n",
       "      <td>17.02</td>\n",
       "      <td>0</td>\n",
       "      <td>1</td>\n",
       "      <td>4</td>\n",
       "      <td>4</td>\n",
       "    </tr>\n",
       "  </tbody>\n",
       "</table>\n",
       "</div>"
      ],
      "text/plain": [
       "                mpg  cyl   disp   hp  drat     wt   qsec  vs  am  gear  carb\n",
       "rownames                                                                    \n",
       "Mazda RX4      21.0    6  160.0  110   3.9  2.620  16.46   0   1     4     4\n",
       "Mazda RX4 Wag  21.0    6  160.0  110   3.9  2.875  17.02   0   1     4     4"
      ]
     },
     "execution_count": 131,
     "metadata": {},
     "output_type": "execute_result"
    }
   ],
   "source": [
    "data.head(2)"
   ]
  },
  {
   "cell_type": "code",
   "execution_count": 132,
   "metadata": {},
   "outputs": [
    {
     "data": {
      "text/plain": [
       "mpg     25\n",
       "cyl      3\n",
       "disp    27\n",
       "hp      22\n",
       "drat    22\n",
       "wt      29\n",
       "qsec    30\n",
       "vs       2\n",
       "am       2\n",
       "gear     3\n",
       "carb     6\n",
       "dtype: int64"
      ]
     },
     "execution_count": 132,
     "metadata": {},
     "output_type": "execute_result"
    }
   ],
   "source": [
    "data.nunique()"
   ]
  },
  {
   "cell_type": "code",
   "execution_count": 133,
   "metadata": {},
   "outputs": [],
   "source": [
    "data = pd.get_dummies(data, columns=['cyl', 'vs', 'am', 'gear', 'carb'], dtype=int)"
   ]
  },
  {
   "cell_type": "code",
   "execution_count": 134,
   "metadata": {},
   "outputs": [],
   "source": [
    "y = data['mpg'].values\n",
    "X = data.drop(columns=['mpg']).values"
   ]
  },
  {
   "cell_type": "code",
   "execution_count": 135,
   "metadata": {},
   "outputs": [],
   "source": [
    "xtrain, xtest, ytrain, ytest = train_test_split(X, y.reshape(-1, 1), train_size=0.8, random_state=42)"
   ]
  },
  {
   "cell_type": "code",
   "execution_count": 136,
   "metadata": {},
   "outputs": [
    {
     "data": {
      "text/plain": [
       "(21,)"
      ]
     },
     "execution_count": 136,
     "metadata": {},
     "output_type": "execute_result"
    }
   ],
   "source": [
    "xtrain.shape[1:]"
   ]
  },
  {
   "cell_type": "markdown",
   "metadata": {},
   "source": [
    "criando tensores"
   ]
  },
  {
   "cell_type": "code",
   "execution_count": 137,
   "metadata": {},
   "outputs": [],
   "source": [
    "#treinamento\n",
    "xtrain_ = torch.tensor( xtrain , dtype=torch.float32)\n",
    "ytrain_ = torch.tensor( ytrain , dtype=torch.float32)\n",
    "\n",
    "# teste\n",
    "xtest_ = torch.tensor( xtest , dtype=torch.float32)\n",
    "ytest_ = torch.tensor( ytest , dtype=torch.float32)"
   ]
  },
  {
   "cell_type": "code",
   "execution_count": 138,
   "metadata": {},
   "outputs": [],
   "source": [
    "xtrain_[:, :5] = (xtrain_[:, :5]- xtrain_[:, :5].mean()) / xtrain_[:, :5].std()\n",
    "xtest_[:, :5]  = (xtest_[:, :5]  - xtest_[:, :5].mean()) / xtest_[:, :5].std() "
   ]
  },
  {
   "cell_type": "code",
   "execution_count": 140,
   "metadata": {},
   "outputs": [
    {
     "data": {
      "text/plain": [
       "tensor([ 0.0045, -0.1151, -0.6844, -0.7042, -0.5482,  1.0000,  0.0000,  0.0000,\n",
       "         0.0000,  1.0000,  0.0000,  1.0000,  0.0000,  1.0000,  0.0000,  1.0000,\n",
       "         0.0000,  0.0000,  0.0000,  0.0000,  0.0000])"
      ]
     },
     "execution_count": 140,
     "metadata": {},
     "output_type": "execute_result"
    }
   ],
   "source": [
    "xtrain_[0, :]"
   ]
  },
  {
   "cell_type": "markdown",
   "metadata": {},
   "source": [
    "criando dataloader"
   ]
  },
  {
   "cell_type": "code",
   "execution_count": 141,
   "metadata": {},
   "outputs": [
    {
     "data": {
      "text/plain": [
       "2"
      ]
     },
     "execution_count": 141,
     "metadata": {},
     "output_type": "execute_result"
    }
   ],
   "source": [
    "xtrain_.shape[0] // 10"
   ]
  },
  {
   "cell_type": "code",
   "execution_count": 142,
   "metadata": {},
   "outputs": [],
   "source": [
    "train = TensorDataset(xtrain_, ytrain_)\n",
    "train = DataLoader(\n",
    "    dataset = train, batch_size=10, shuffle=True, drop_last=True\n",
    ")"
   ]
  },
  {
   "cell_type": "markdown",
   "metadata": {},
   "source": [
    "criando o modelo"
   ]
  },
  {
   "cell_type": "markdown",
   "metadata": {},
   "source": [
    "$\\frac{\\sum (y_i - \\^y_i)^2 }{\\sum (y_i - \\bar y)^2}$"
   ]
  },
  {
   "cell_type": "code",
   "execution_count": 143,
   "metadata": {},
   "outputs": [],
   "source": [
    "def RSE_loss(input_:torch.Tensor, output_:torch.Tensor):\n",
    "    return    torch.sum( (input_ - output_).pow(2) ) \\\n",
    "            / torch.sum( (input_ - input_.mean()).pow(2) )  "
   ]
  },
  {
   "cell_type": "markdown",
   "metadata": {},
   "source": [
    "criando o modelo de train"
   ]
  },
  {
   "cell_type": "code",
   "execution_count": 148,
   "metadata": {},
   "outputs": [],
   "source": [
    "torch.manual_seed(seed=32)\n",
    "weight = torch.randn(21, dtype=torch.float32)\n",
    "weight.requires_grad_()\n",
    "bias   = torch.zeros(1, requires_grad=True)\n",
    "    \n",
    "def modelo(x):\n",
    "    p_ = weight.add(bias).reshape(-1, 1)\n",
    "    return x @ p_"
   ]
  },
  {
   "cell_type": "code",
   "execution_count": 155,
   "metadata": {},
   "outputs": [
    {
     "name": "stdout",
     "output_type": "stream",
     "text": [
      "Batch 2/2 [====================>] 100.00% - Loss: 18.4744514\n",
      "Batch 2/2 [====================>] 100.00% - Loss: 27.3446199\n",
      "Batch 2/2 [====================>] 100.00% - Loss: 13.79219287\n",
      "Batch 2/2 [====================>] 100.00% - Loss: 14.88026629\n",
      "Batch 2/2 [====================>] 100.00% - Loss: 11.9165178\n",
      "Batch 2/2 [====================>] 100.00% - Loss: 8.1331.1717\n",
      "Batch 2/2 [====================>] 100.00% - Loss: 8.2743.9179\n",
      "Batch 2/2 [====================>] 100.00% - Loss: 7.3799.9805\n",
      "Batch 2/2 [====================>] 100.00% - Loss: 12.16377164\n",
      "Batch 2/2 [====================>] 100.00% - Loss: 18.7580225\n",
      "Batch 2/2 [====================>] 100.00% - Loss: 9.5937.5629\n",
      "Batch 2/2 [====================>] 100.00% - Loss: 18.54686234\n",
      "Batch 2/2 [====================>] 100.00% - Loss: 9.9649.3738\n",
      "Batch 2/2 [====================>] 100.00% - Loss: 17.1239540\n",
      "Batch 2/2 [====================>] 100.00% - Loss: 12.32224476\n",
      "Batch 2/2 [====================>] 100.00% - Loss: 13.47570609\n",
      "Batch 2/2 [====================>] 100.00% - Loss: 18.5985008\n",
      "Batch 2/2 [====================>] 100.00% - Loss: 9.8805.1684\n",
      "Batch 2/2 [====================>] 100.00% - Loss: 9.6349.3838\n",
      "Batch 2/2 [====================>] 100.00% - Loss: 8.3868.2738\n",
      "Batch 2/2 [====================>] 100.00% - Loss: 15.07051758\n",
      "Batch 2/2 [====================>] 100.00% - Loss: 8.5203.0491\n",
      "Batch 2/2 [====================>] 100.00% - Loss: 10.85921889\n",
      "Batch 2/2 [====================>] 100.00% - Loss: 14.80250123\n",
      "Batch 2/2 [====================>] 100.00% - Loss: 11.32944837\n",
      "Batch 2/2 [====================>] 100.00% - Loss: 15.2284518\n",
      "Batch 2/2 [====================>] 100.00% - Loss: 7.5301.6385\n",
      "Batch 2/2 [====================>] 100.00% - Loss: 11.9796670\n",
      "Batch 2/2 [====================>] 100.00% - Loss: 8.9001.8954\n",
      "Batch 2/2 [====================>] 100.00% - Loss: 7.2546.9698\n",
      "Batch 2/2 [====================>] 100.00% - Loss: 12.9048912\n",
      "Batch 2/2 [====================>] 100.00% - Loss: 7.5812.8342\n",
      "Batch 2/2 [====================>] 100.00% - Loss: 8.1202.1605\n",
      "Batch 2/2 [====================>] 100.00% - Loss: 14.46842317\n",
      "Batch 2/2 [====================>] 100.00% - Loss: 14.6815545\n",
      "Batch 2/2 [====================>] 100.00% - Loss: 15.8877621\n",
      "Batch 2/2 [====================>] 100.00% - Loss: 9.21981411\n",
      "Batch 2/2 [====================>] 100.00% - Loss: 6.1113.3576\n",
      "Batch 2/2 [====================>] 100.00% - Loss: 11.38273325\n",
      "Batch 2/2 [====================>] 100.00% - Loss: 9.35615354\n",
      "Batch 2/2 [====================>] 100.00% - Loss: 14.4377477\n",
      "Batch 2/2 [====================>] 100.00% - Loss: 7.3069.1491\n",
      "Batch 2/2 [====================>] 100.00% - Loss: 10.69350649\n",
      "Batch 2/2 [====================>] 100.00% - Loss: 11.57112875\n",
      "Batch 2/2 [====================>] 100.00% - Loss: 7.1562.2827\n",
      "Batch 2/2 [====================>] 100.00% - Loss: 8.22852228\n",
      "Batch 2/2 [====================>] 100.00% - Loss: 5.8485.6485\n",
      "Batch 2/2 [====================>] 100.00% - Loss: 9.56699425\n",
      "Batch 2/2 [====================>] 100.00% - Loss: 8.00594512\n",
      "Batch 2/2 [====================>] 100.00% - Loss: 8.87474045\n",
      "Batch 2/2 [====================>] 100.00% - Loss: 7.38903004\n",
      "Batch 2/2 [====================>] 100.00% - Loss: 10.3161013\n",
      "Batch 2/2 [====================>] 100.00% - Loss: 9.70859495\n",
      "Batch 2/2 [====================>] 100.00% - Loss: 13.7476920\n",
      "Batch 2/2 [====================>] 100.00% - Loss: 12.57835661\n",
      "Batch 2/2 [====================>] 100.00% - Loss: 6.8135.2841\n",
      "Batch 2/2 [====================>] 100.00% - Loss: 7.8065.8528\n",
      "Batch 2/2 [====================>] 100.00% - Loss: 6.8465.1221\n",
      "Batch 2/2 [====================>] 100.00% - Loss: 6.8974.6659\n",
      "Batch 2/2 [====================>] 100.00% - Loss: 10.0514513\n",
      "Batch 2/2 [====================>] 100.00% - Loss: 8.0308.5495\n",
      "Batch 2/2 [====================>] 100.00% - Loss: 6.66759791\n",
      "Batch 2/2 [====================>] 100.00% - Loss: 11.26174332\n",
      "Batch 2/2 [====================>] 100.00% - Loss: 7.54934582\n",
      "Batch 2/2 [====================>] 100.00% - Loss: 7.08595870\n",
      "Batch 2/2 [====================>] 100.00% - Loss: 15.2562057\n",
      "Batch 2/2 [====================>] 100.00% - Loss: 19.2693187\n",
      "Batch 2/2 [====================>] 100.00% - Loss: 11.2735890\n",
      "Batch 2/2 [====================>] 100.00% - Loss: 7.74278256\n",
      "Batch 2/2 [====================>] 100.00% - Loss: 8.26099999\n",
      "Batch 2/2 [====================>] 100.00% - Loss: 8.03841314\n",
      "Batch 2/2 [====================>] 100.00% - Loss: 9.53392243\n",
      "Batch 2/2 [====================>] 100.00% - Loss: 9.56588329\n",
      "Batch 2/2 [====================>] 100.00% - Loss: 7.33349277\n",
      "Batch 2/2 [====================>] 100.00% - Loss: 8.01284271\n",
      "Batch 2/2 [====================>] 100.00% - Loss: 8.47271334\n",
      "Batch 2/2 [====================>] 100.00% - Loss: 6.8230.8492\n",
      "Batch 2/2 [====================>] 100.00% - Loss: 7.1275.9858\n",
      "Batch 2/2 [====================>] 100.00% - Loss: 7.99678640\n",
      "Batch 2/2 [====================>] 100.00% - Loss: 12.8198890\n",
      "Batch 2/2 [====================>] 100.00% - Loss: 9.3092.6638\n",
      "Batch 2/2 [====================>] 100.00% - Loss: 12.8861618\n",
      "Batch 2/2 [====================>] 100.00% - Loss: 6.7936.5608\n",
      "Batch 2/2 [====================>] 100.00% - Loss: 5.8758.1865\n",
      "Batch 2/2 [====================>] 100.00% - Loss: 8.32762802\n",
      "Batch 2/2 [====================>] 100.00% - Loss: 8.56314969\n",
      "Batch 2/2 [====================>] 100.00% - Loss: 16.6434040\n",
      "Batch 2/2 [====================>] 100.00% - Loss: 8.51753159\n",
      "Batch 2/2 [====================>] 100.00% - Loss: 6.8277.5658\n",
      "Batch 2/2 [====================>] 100.00% - Loss: 12.5024741\n",
      "Batch 2/2 [====================>] 100.00% - Loss: 9.55940473\n",
      "Batch 2/2 [====================>] 100.00% - Loss: 12.2196772\n",
      "Batch 2/2 [====================>] 100.00% - Loss: 7.96441610\n",
      "Batch 2/2 [====================>] 100.00% - Loss: 11.1424562\n",
      "Batch 2/2 [====================>] 100.00% - Loss: 6.07489464\n",
      "Batch 2/2 [====================>] 100.00% - Loss: 12.4327749\n",
      "Batch 2/2 [====================>] 100.00% - Loss: 11.7405597\n",
      "Batch 2/2 [====================>] 100.00% - Loss: 7.4808.4097\n",
      "Batch 2/2 [====================>] 100.00% - Loss: 6.75282613\n",
      "Batch 2/2 [====================>] 100.00% - Loss: 8.77045939\n"
     ]
    }
   ],
   "source": [
    "epoch= 100\n",
    "lr_ = 0.001\n",
    "melhor_, count_ = torch.inf, 0   \n",
    "mean_r2, mean_loss = [], []\n",
    "\n",
    "for epoch in range(epoch):\n",
    "    loss_list, r2_list = [], []\n",
    "\n",
    "    if paciencia == count_: break\n",
    "\n",
    "    for enum_, (xbatch, ybatch) in enumerate(train, 1):\n",
    "        pred = modelo(xbatch)\n",
    "        loss = RSE_loss(ybatch, pred)\n",
    "        loss.backward()\n",
    "\n",
    "        printing_(enum_, len(train), loss.item(), 0.1)\n",
    "        r2_list.append(r2_score(pred.detach(), ybatch))\n",
    "        loss_list.append(loss.item())\n",
    "        \n",
    "        \n",
    "    with torch.no_grad():\n",
    "        weight -= weight.grad * lr_\n",
    "        bias -= bias.grad * lr_\n",
    "            \n",
    "        weight.grad.zero_()\n",
    "        bias.grad.zero_()\n",
    "            \n",
    "    print()\n",
    "            \n",
    "    mean_loss.append(np.mean(loss_list))\n",
    "    mean_r2.append(np.mean(r2_list))"
   ]
  },
  {
   "cell_type": "code",
   "execution_count": 156,
   "metadata": {},
   "outputs": [
    {
     "data": {
      "text/plain": [
       "[<matplotlib.lines.Line2D at 0x1f9fa0e2810>]"
      ]
     },
     "execution_count": 156,
     "metadata": {},
     "output_type": "execute_result"
    },
    {
     "data": {
      "image/png": "[encoded data removed]",
      "text/plain": [
       "<Figure size 640x480 with 1 Axes>"
      ]
     },
     "metadata": {},
     "output_type": "display_data"
    }
   ],
   "source": [
    "plt.plot(mean_loss)"
   ]
  },
  {
   "cell_type": "code",
   "execution_count": 157,
   "metadata": {},
   "outputs": [
    {
     "data": {
      "text/plain": [
       "[<matplotlib.lines.Line2D at 0x1f9fa142a50>]"
      ]
     },
     "execution_count": 157,
     "metadata": {},
     "output_type": "execute_result"
    },
    {
     "data": {
      "image/png": "[encoded data removed]",
      "text/plain": [
       "<Figure size 640x480 with 1 Axes>"
      ]
     },
     "metadata": {},
     "output_type": "display_data"
    }
   ],
   "source": [
    "plt.plot(mean_r2)"
   ]
  },
  {
   "cell_type": "code",
   "execution_count": null,
   "metadata": {},
   "outputs": [],
   "source": []
  }
 ],
 "metadata": {
  "kernelspec": {
   "display_name": "Python 3",
   "language": "python",
   "name": "python3"
  },
  "language_info": {
   "codemirror_mode": {
    "name": "ipython",
    "version": 3
   },
   "file_extension": ".py",
   "mimetype": "text/x-python",
   "name": "python",
   "nbconvert_exporter": "python",
   "pygments_lexer": "ipython3",
   "version": "3.12.6"
  }
 },
 "nbformat": 4,
 "nbformat_minor": 2
}
