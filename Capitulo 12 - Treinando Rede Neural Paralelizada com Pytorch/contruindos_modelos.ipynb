{
 "cells": [
  {
   "cell_type": "code",
   "execution_count": 1,
   "metadata": {},
   "outputs": [],
   "source": [
    "import torch\n",
    "from   sklearn.datasets import make_classification"
   ]
  },
  {
   "cell_type": "code",
   "execution_count": 6,
   "metadata": {},
   "outputs": [],
   "source": [
    "X, y = make_classification(n_samples=1_000, random_state=32)"
   ]
  },
  {
   "cell_type": "markdown",
   "metadata": {},
   "source": [
    "modelo_1"
   ]
  },
  {
   "cell_type": "code",
   "execution_count": 72,
   "metadata": {},
   "outputs": [],
   "source": [
    "from torch.nn import functional as f \n",
    "class modelo_1(torch.nn.Module):\n",
    "    def __init__(self) -> None:\n",
    "        super().__init__()\n",
    "\n",
    "        self.input_ = torch.nn.Linear(20, 10)\n",
    "        self.hidden1_ = torch.nn.Linear(10, 5)\n",
    "        self.hidden2_ = torch.nn.Linear(5, 1)\n",
    "    \n",
    "    def forward(self, x):\n",
    "        x = self.input_(x)\n",
    "        x = torch.nn.Sigmoid()(x)\n",
    "        x = self.hidden1_(x)\n",
    "        x = torch.nn.Sigmoid()(x)\n",
    "        x = self.hidden2_(x)\n",
    "        return torch.nn.Sigmoid()(x)"
   ]
  },
  {
   "cell_type": "code",
   "execution_count": 73,
   "metadata": {},
   "outputs": [],
   "source": [
    "modelo_1 = modelo_1()"
   ]
  },
  {
   "cell_type": "code",
   "execution_count": 82,
   "metadata": {},
   "outputs": [
    {
     "data": {
      "text/plain": [
       "tensor([-0.2753, -0.0745, -0.1861,  0.0675, -0.1676, -0.0552,  0.1291,  0.2044,\n",
       "        -0.2425,  0.1455, -0.2151,  0.0831,  0.4080, -0.3007, -0.0881,  0.4269,\n",
       "        -0.2494,  0.1093, -0.3272, -0.2793], grad_fn=<SliceBackward0>)"
      ]
     },
     "execution_count": 82,
     "metadata": {},
     "output_type": "execute_result"
    }
   ],
   "source": [
    "modelo_1.input_.weight[0, :]"
   ]
  },
  {
   "cell_type": "code",
   "execution_count": 83,
   "metadata": {},
   "outputs": [
    {
     "data": {
      "text/plain": [
       "modelo_1(\n",
       "  (input_): Linear(in_features=20, out_features=10, bias=True)\n",
       "  (hidden1_): Linear(in_features=10, out_features=5, bias=True)\n",
       "  (hidden2_): Linear(in_features=5, out_features=1, bias=True)\n",
       ")"
      ]
     },
     "execution_count": 83,
     "metadata": {},
     "output_type": "execute_result"
    }
   ],
   "source": [
    "def initializer_(x:torch.nn.Linear):\n",
    "    if isinstance(x, torch.nn.Linear):\n",
    "        torch.nn.init.xavier_uniform_(x.weight)\n",
    "\n",
    "modelo_1.apply(initializer_)"
   ]
  },
  {
   "cell_type": "code",
   "execution_count": 86,
   "metadata": {},
   "outputs": [
    {
     "data": {
      "text/plain": [
       "tensor([ 0.0136, -0.0076,  0.0647,  0.2691,  0.3477,  0.1434, -0.0677, -0.3407,\n",
       "         0.1523, -0.2532, -0.3901,  0.0640,  0.2347, -0.0496, -0.2522, -0.3954,\n",
       "        -0.1825, -0.4135,  0.2152, -0.0947], grad_fn=<SliceBackward0>)"
      ]
     },
     "execution_count": 86,
     "metadata": {},
     "output_type": "execute_result"
    }
   ],
   "source": [
    "modelo_1.input_.weight[0, :]"
   ]
  },
  {
   "cell_type": "markdown",
   "metadata": {},
   "source": [
    "modelo 2"
   ]
  },
  {
   "cell_type": "code",
   "execution_count": 58,
   "metadata": {},
   "outputs": [
    {
     "data": {
      "text/plain": [
       "Sequential(\n",
       "  (0): Linear(in_features=20, out_features=10, bias=True)\n",
       "  (1): ReLU()\n",
       "  (2): Linear(in_features=10, out_features=5, bias=True)\n",
       "  (3): ReLU()\n",
       "  (4): Linear(in_features=5, out_features=1, bias=True)\n",
       "  (5): ReLU()\n",
       ")"
      ]
     },
     "execution_count": 58,
     "metadata": {},
     "output_type": "execute_result"
    }
   ],
   "source": [
    "modelo_2 = torch.nn.Sequential(\n",
    "    torch.nn.Linear(20, 10),\n",
    "    torch.nn.ReLU(),\n",
    "    torch.nn.Linear(10, 5),\n",
    "    torch.nn.ReLU(),  \n",
    "    torch.nn.Linear(5, 1),\n",
    "    torch.nn.ReLU()\n",
    ")\n",
    "modelo_2"
   ]
  },
  {
   "cell_type": "code",
   "execution_count": 59,
   "metadata": {},
   "outputs": [
    {
     "data": {
      "text/plain": [
       "tensor([ 0.0018,  0.0072,  0.1500,  0.0936,  0.1553, -0.2091,  0.1374,  0.0264,\n",
       "        -0.1027,  0.1062, -0.0126,  0.1453,  0.1959, -0.0467, -0.0911,  0.1989,\n",
       "        -0.1247,  0.1934, -0.1918,  0.0253], grad_fn=<SliceBackward0>)"
      ]
     },
     "execution_count": 59,
     "metadata": {},
     "output_type": "execute_result"
    }
   ],
   "source": [
    "modelo_2[0].weight[0, :]"
   ]
  },
  {
   "cell_type": "code",
   "execution_count": 60,
   "metadata": {},
   "outputs": [
    {
     "data": {
      "text/plain": [
       "Sequential(\n",
       "  (0): Linear(in_features=20, out_features=10, bias=True)\n",
       "  (1): ReLU()\n",
       "  (2): Linear(in_features=10, out_features=5, bias=True)\n",
       "  (3): ReLU()\n",
       "  (4): Linear(in_features=5, out_features=1, bias=True)\n",
       "  (5): ReLU()\n",
       ")"
      ]
     },
     "execution_count": 60,
     "metadata": {},
     "output_type": "execute_result"
    }
   ],
   "source": [
    "def initializer_(x:torch.nn.Linear):\n",
    "    if isinstance(x, torch.nn.Linear):\n",
    "        return torch.nn.init.xavier_uniform_(x.weight)\n",
    "\n",
    "modelo_2.apply(initializer_)"
   ]
  },
  {
   "cell_type": "code",
   "execution_count": 61,
   "metadata": {},
   "outputs": [
    {
     "data": {
      "text/plain": [
       "tensor([ 0.4316,  0.2650,  0.3772, -0.3212, -0.3830, -0.0953,  0.4137,  0.1022,\n",
       "        -0.3870,  0.2182, -0.1146,  0.0151,  0.1313, -0.0453, -0.1934, -0.0407,\n",
       "        -0.4410,  0.0272,  0.2585,  0.3636], grad_fn=<SliceBackward0>)"
      ]
     },
     "execution_count": 61,
     "metadata": {},
     "output_type": "execute_result"
    }
   ],
   "source": [
    "modelo_2[0].weight[0, :]"
   ]
  }
 ],
 "metadata": {
  "kernelspec": {
   "display_name": "Python 3",
   "language": "python",
   "name": "python3"
  },
  "language_info": {
   "codemirror_mode": {
    "name": "ipython",
    "version": 3
   },
   "file_extension": ".py",
   "mimetype": "text/x-python",
   "name": "python",
   "nbconvert_exporter": "python",
   "pygments_lexer": "ipython3",
   "version": "3.12.6"
  }
 },
 "nbformat": 4,
 "nbformat_minor": 2
}
