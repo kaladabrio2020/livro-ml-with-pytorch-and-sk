{
 "cells": [
  {
   "cell_type": "code",
   "execution_count": 198,
   "metadata": {},
   "outputs": [],
   "source": [
    "import torch\n",
    "import pandas as pd\n",
    "from   sklearn.datasets import load_breast_cancer\n",
    "from   sklearn.metrics import *\n",
    "import matplotlib.pyplot as plt"
   ]
  },
  {
   "cell_type": "code",
   "execution_count": 199,
   "metadata": {},
   "outputs": [],
   "source": [
    "import time\n",
    "import numpy as np\n",
    "def printing_(enum_, length_train, loss, sleep=0.1):\n",
    "    progress_ = enum_ / length_train\n",
    "\n",
    "    print(  f\"\\rBatch {enum_}/{length_train} \"\n",
    "            f\"[{int(progress_ * 30) * '='}>{int((1 - progress_) * 30) * ' '}] \"\n",
    "            f\"{progress_ * 100:.2f}% - loss: {loss:.4f}\", end=\"\")\n",
    "    time.sleep(sleep)\n",
    "    \n",
    "def final_epoch(l_loss):\n",
    "    print()\n",
    "    print(f'    > loss_mean:{np.mean(l_loss):2f}')"
   ]
  },
  {
   "cell_type": "code",
   "execution_count": 200,
   "metadata": {},
   "outputs": [],
   "source": [
    "X, y = load_breast_cancer(return_X_y=True)"
   ]
  },
  {
   "cell_type": "code",
   "execution_count": 201,
   "metadata": {},
   "outputs": [
    {
     "data": {
      "text/plain": [
       "array([1.799e+01, 1.038e+01, 1.228e+02, 1.001e+03, 1.184e-01, 2.776e-01,\n",
       "       3.001e-01, 1.471e-01, 2.419e-01, 7.871e-02, 1.095e+00, 9.053e-01,\n",
       "       8.589e+00, 1.534e+02, 6.399e-03, 4.904e-02, 5.373e-02, 1.587e-02,\n",
       "       3.003e-02, 6.193e-03, 2.538e+01, 1.733e+01, 1.846e+02, 2.019e+03,\n",
       "       1.622e-01, 6.656e-01, 7.119e-01, 2.654e-01, 4.601e-01, 1.189e-01])"
      ]
     },
     "execution_count": 201,
     "metadata": {},
     "output_type": "execute_result"
    }
   ],
   "source": [
    "X[0, :]"
   ]
  },
  {
   "cell_type": "code",
   "execution_count": 202,
   "metadata": {},
   "outputs": [
    {
     "data": {
      "text/plain": [
       "18    0.006522\n",
       "11    0.008303\n",
       "9     0.012838\n",
       "14    0.067016\n",
       "19    0.077972\n",
       "16    0.253730\n",
       "15    0.292999\n",
       "29    0.323872\n",
       "8     0.330499\n",
       "4     0.358560\n",
       "17    0.408042\n",
       "1     0.415185\n",
       "28    0.416294\n",
       "24    0.421465\n",
       "21    0.456903\n",
       "13    0.548236\n",
       "12    0.556141\n",
       "10    0.567134\n",
       "25    0.590998\n",
       "5     0.596534\n",
       "26    0.659610\n",
       "6     0.696360\n",
       "3     0.708984\n",
       "0     0.730029\n",
       "23    0.733825\n",
       "2     0.742636\n",
       "20    0.776454\n",
       "7     0.776614\n",
       "22    0.782914\n",
       "27    0.793566\n",
       "dtype: float64"
      ]
     },
     "execution_count": 202,
     "metadata": {},
     "output_type": "execute_result"
    }
   ],
   "source": [
    "abs(pd.DataFrame(X).corrwith(pd.Series(y))).sort_values()"
   ]
  },
  {
   "cell_type": "markdown",
   "metadata": {},
   "source": [
    "modelo_1"
   ]
  },
  {
   "cell_type": "code",
   "execution_count": 203,
   "metadata": {},
   "outputs": [],
   "source": [
    "from torch.nn import functional as f \n",
    "class modelo_1(torch.nn.Module):\n",
    "    def __init__(self) -> None:\n",
    "        super().__init__()\n",
    "\n",
    "        self.input_ = torch.nn.Linear(30, 15)\n",
    "        self.hidden1_ = torch.nn.Linear(15, 5)\n",
    "        self.hidden2_ = torch.nn.Linear(5, 1)\n",
    "    \n",
    "    def forward(self, x):\n",
    "        x = self.input_(x)\n",
    "        x = torch.nn.Sigmoid()(x)\n",
    "        x = self.hidden1_(x)\n",
    "        x = torch.nn.Sigmoid()(x)\n",
    "        x = self.hidden2_(x)\n",
    "        return torch.nn.Sigmoid()(x)"
   ]
  },
  {
   "cell_type": "code",
   "execution_count": 204,
   "metadata": {},
   "outputs": [],
   "source": [
    "modelo_1 = modelo_1()"
   ]
  },
  {
   "cell_type": "code",
   "execution_count": 205,
   "metadata": {},
   "outputs": [
    {
     "data": {
      "text/plain": [
       "tensor([-0.1664,  0.0039, -0.1409, -0.0465, -0.1256,  0.0253,  0.0003, -0.1629,\n",
       "        -0.1068,  0.0680, -0.0434, -0.0979, -0.1311, -0.1156,  0.1626, -0.1198,\n",
       "        -0.0040,  0.1324, -0.0570, -0.0083, -0.0984,  0.1204, -0.0342, -0.0341,\n",
       "         0.0237,  0.1147,  0.0045,  0.1507,  0.0329,  0.1755],\n",
       "       grad_fn=<SliceBackward0>)"
      ]
     },
     "execution_count": 205,
     "metadata": {},
     "output_type": "execute_result"
    }
   ],
   "source": [
    "modelo_1.input_.weight[0, :]"
   ]
  },
  {
   "cell_type": "code",
   "execution_count": 206,
   "metadata": {},
   "outputs": [
    {
     "data": {
      "text/plain": [
       "modelo_1(\n",
       "  (input_): Linear(in_features=30, out_features=15, bias=True)\n",
       "  (hidden1_): Linear(in_features=15, out_features=5, bias=True)\n",
       "  (hidden2_): Linear(in_features=5, out_features=1, bias=True)\n",
       ")"
      ]
     },
     "execution_count": 206,
     "metadata": {},
     "output_type": "execute_result"
    }
   ],
   "source": [
    "def initializer_(x:torch.nn.Linear):\n",
    "    if isinstance(x, torch.nn.Linear):\n",
    "        torch.nn.init.xavier_uniform_(x.weight)\n",
    "\n",
    "modelo_1.apply(initializer_)"
   ]
  },
  {
   "cell_type": "code",
   "execution_count": 207,
   "metadata": {},
   "outputs": [
    {
     "data": {
      "text/plain": [
       "tensor([-0.3512,  0.0244,  0.1400,  0.2943,  0.1096,  0.3357, -0.3097,  0.2440,\n",
       "        -0.2671,  0.2329,  0.1643,  0.1215, -0.3125,  0.2276, -0.1641,  0.1419,\n",
       "        -0.2040,  0.0429,  0.2663, -0.2349,  0.1156, -0.1832,  0.0699, -0.3066,\n",
       "        -0.0974, -0.3409,  0.2393,  0.1461, -0.1357, -0.2567],\n",
       "       grad_fn=<SliceBackward0>)"
      ]
     },
     "execution_count": 207,
     "metadata": {},
     "output_type": "execute_result"
    }
   ],
   "source": [
    "modelo_1.input_.weight[0, :]"
   ]
  },
  {
   "cell_type": "markdown",
   "metadata": {},
   "source": [
    "modelo 2"
   ]
  },
  {
   "cell_type": "code",
   "execution_count": 234,
   "metadata": {},
   "outputs": [
    {
     "data": {
      "text/plain": [
       "Sequential(\n",
       "  (0): Linear(in_features=30, out_features=10, bias=True)\n",
       "  (1): LeakyReLU(negative_slope=0.01)\n",
       "  (2): Dropout(p=0.25, inplace=False)\n",
       "  (3): Linear(in_features=10, out_features=5, bias=True)\n",
       "  (4): LeakyReLU(negative_slope=0.01)\n",
       "  (5): Linear(in_features=5, out_features=1, bias=True)\n",
       "  (6): LeakyReLU(negative_slope=0.01)\n",
       ")"
      ]
     },
     "execution_count": 234,
     "metadata": {},
     "output_type": "execute_result"
    }
   ],
   "source": [
    "modelo_2 = torch.nn.Sequential(\n",
    "    torch.nn.Linear(30, 10),\n",
    "    torch.nn.LeakyReLU(),   \n",
    "    torch.nn.Dropout(p=0.25),\n",
    "    torch.nn.Linear(10, 5),\n",
    "    torch.nn.LeakyReLU(),\n",
    "    \n",
    "    torch.nn.Linear(5, 1),\n",
    "    torch.nn.LeakyReLU(),\n",
    ")\n",
    "modelo_2"
   ]
  },
  {
   "cell_type": "code",
   "execution_count": 235,
   "metadata": {},
   "outputs": [
    {
     "data": {
      "text/plain": [
       "tensor([ 0.1653,  0.1354, -0.0386, -0.1323, -0.1053, -0.1213,  0.0781, -0.0901,\n",
       "         0.0936,  0.1521,  0.1057,  0.1691,  0.0075, -0.1370,  0.1216,  0.1103,\n",
       "        -0.1157,  0.1475, -0.0008, -0.0043, -0.0393, -0.0598,  0.0815, -0.1741,\n",
       "         0.0247,  0.1294, -0.0724,  0.0211,  0.1743,  0.1189],\n",
       "       grad_fn=<SliceBackward0>)"
      ]
     },
     "execution_count": 235,
     "metadata": {},
     "output_type": "execute_result"
    }
   ],
   "source": [
    "modelo_2[0].weight[0, :]"
   ]
  },
  {
   "cell_type": "code",
   "execution_count": 236,
   "metadata": {},
   "outputs": [
    {
     "data": {
      "text/plain": [
       "Sequential(\n",
       "  (0): Linear(in_features=30, out_features=10, bias=True)\n",
       "  (1): LeakyReLU(negative_slope=0.01)\n",
       "  (2): Dropout(p=0.25, inplace=False)\n",
       "  (3): Linear(in_features=10, out_features=5, bias=True)\n",
       "  (4): LeakyReLU(negative_slope=0.01)\n",
       "  (5): Linear(in_features=5, out_features=1, bias=True)\n",
       "  (6): LeakyReLU(negative_slope=0.01)\n",
       ")"
      ]
     },
     "execution_count": 236,
     "metadata": {},
     "output_type": "execute_result"
    }
   ],
   "source": [
    "def initializer_(x:torch.nn.Linear):\n",
    "    if isinstance(x, torch.nn.Linear):\n",
    "        return torch.nn.init.xavier_uniform_(x.weight, gain=torch.nn.init.calculate_gain('Leaky_ReLU'.lower()))\n",
    "modelo_2.apply(initializer_)"
   ]
  },
  {
   "cell_type": "code",
   "execution_count": 237,
   "metadata": {},
   "outputs": [
    {
     "data": {
      "text/plain": [
       "tensor([ 0.1592,  0.1623, -0.4387,  0.4541, -0.5123, -0.1166, -0.2477,  0.3059,\n",
       "        -0.2484,  0.2582, -0.5359, -0.0314,  0.0377,  0.0462, -0.5205, -0.1896,\n",
       "        -0.1129, -0.1361, -0.1182, -0.0785,  0.3435,  0.1555, -0.3837, -0.0170,\n",
       "         0.1924,  0.1513, -0.2594,  0.2823,  0.4117, -0.0341],\n",
       "       grad_fn=<SliceBackward0>)"
      ]
     },
     "execution_count": 237,
     "metadata": {},
     "output_type": "execute_result"
    }
   ],
   "source": [
    "modelo_2[0].weight[0, :]"
   ]
  },
  {
   "cell_type": "code",
   "execution_count": 238,
   "metadata": {},
   "outputs": [],
   "source": [
    "X_ = torch.tensor(X, dtype=torch.float32)\n",
    "y_ = torch.tensor(y.reshape(-1, 1), dtype=torch.float32)"
   ]
  },
  {
   "cell_type": "code",
   "execution_count": 239,
   "metadata": {},
   "outputs": [],
   "source": [
    "X_ = (X_ - X_.mean(dim=0)) / X_.std(dim=0)"
   ]
  },
  {
   "cell_type": "code",
   "execution_count": 240,
   "metadata": {},
   "outputs": [
    {
     "data": {
      "text/plain": [
       "28.45"
      ]
     },
     "execution_count": 240,
     "metadata": {},
     "output_type": "execute_result"
    }
   ],
   "source": [
    "X_.shape[0] /20"
   ]
  },
  {
   "cell_type": "code",
   "execution_count": 241,
   "metadata": {},
   "outputs": [],
   "source": [
    "train = torch.utils.data.TensorDataset(X_, y_)\n",
    "train = torch.utils.data.DataLoader(\n",
    "    dataset = train, batch_size=20, shuffle=True, drop_last=True\n",
    ")"
   ]
  },
  {
   "cell_type": "code",
   "execution_count": 254,
   "metadata": {},
   "outputs": [],
   "source": [
    "import torch.optim.sparse_adam\n",
    "\n",
    "\n",
    "accuracy_ = []\n",
    "loss_     = []\n",
    "loss_fn   = torch.nn.BCEWithLogitsLoss()\n",
    "optimzer  = torch.optim.SGD(\n",
    "    modelo_2.parameters(), lr=0.001, nesterov=True, momentum=0.50)\n",
    "\n",
    "\n",
    "for epoch in range(100):\n",
    "    list_accuracy, list_loss = [], []\n",
    "\n",
    "    for enum_, (xbatch, ybatch) in enumerate(train, 1):\n",
    "        pred = modelo_2(xbatch)\n",
    "    \n",
    "        loss = loss_fn(ybatch, pred)\n",
    "\n",
    "        list_accuracy.append(\n",
    "            accuracy_score(ybatch, (pred >=0.5).float())\n",
    "        )\n",
    "        list_loss.append(\n",
    "            loss.item()\n",
    "        )\n",
    "\n",
    "        optimzer.zero_grad()\n",
    "        loss.backward()\n",
    "        optimzer.step()\n",
    "\n",
    "    accuracy_.append(np.mean(list_accuracy))\n",
    "    loss_.append(np.mean(list_loss))"
   ]
  },
  {
   "cell_type": "code",
   "execution_count": 255,
   "metadata": {},
   "outputs": [
    {
     "data": {
      "text/plain": [
       "[<matplotlib.lines.Line2D at 0x2188b972e40>]"
      ]
     },
     "execution_count": 255,
     "metadata": {},
     "output_type": "execute_result"
    },
    {
     "data": {
      "image/png": "[encoded data removed]",
      "text/plain": [
       "<Figure size 640x480 with 1 Axes>"
      ]
     },
     "metadata": {},
     "output_type": "display_data"
    }
   ],
   "source": [
    "plt.plot(accuracy_)"
   ]
  },
  {
   "cell_type": "code",
   "execution_count": 256,
   "metadata": {},
   "outputs": [
    {
     "data": {
      "text/plain": [
       "array([0.], dtype=float32)"
      ]
     },
     "execution_count": 256,
     "metadata": {},
     "output_type": "execute_result"
    }
   ],
   "source": [
    "np.unique((modelo_2(X_) >=0.5).float())"
   ]
  },
  {
   "cell_type": "code",
   "execution_count": 245,
   "metadata": {},
   "outputs": [
    {
     "name": "stdout",
     "output_type": "stream",
     "text": [
      "              precision    recall  f1-score   support\n",
      "\n",
      "         0.0       0.78      0.27      0.41       212\n",
      "         1.0       0.69      0.96      0.80       357\n",
      "\n",
      "    accuracy                           0.70       569\n",
      "   macro avg       0.74      0.61      0.60       569\n",
      "weighted avg       0.72      0.70      0.65       569\n",
      "\n"
     ]
    }
   ],
   "source": [
    "print(classification_report(\n",
    "    y_, (modelo_2(X_) >=0.5).float().detach()\n",
    "))"
   ]
  },
  {
   "cell_type": "markdown",
   "metadata": {},
   "source": [
    "contador"
   ]
  },
  {
   "cell_type": "markdown",
   "metadata": {},
   "source": [
    "### criando modelos do zero"
   ]
  },
  {
   "cell_type": "code",
   "execution_count": 220,
   "metadata": {},
   "outputs": [],
   "source": [
    "def sigmoid(x):\n",
    "    return 1 / ( 1 + torch.exp(-1*x))"
   ]
  },
  {
   "cell_type": "code",
   "execution_count": 221,
   "metadata": {},
   "outputs": [],
   "source": [
    "weight = torch.randn(X.shape[1])\n",
    "weight.requires_grad_()\n",
    "\n",
    "bias   = torch.zeros(1, requires_grad=True)\n",
    "\n",
    "def modelo(X):\n",
    "    p_ = weight.add( other=bias ).reshape(-1, 1)\n",
    "\n",
    "    return X @ p_"
   ]
  },
  {
   "cell_type": "code",
   "execution_count": 222,
   "metadata": {},
   "outputs": [],
   "source": [
    "def loss_fn(input_:torch.Tensor, output_:torch.Tensor):\n",
    "    return (\n",
    "        torch.multiply( (-1 * input_), torch.log(output_) ) \n",
    "        - torch.multiply(( 1 - input_ ) , torch.log( 1 + output_ ))\n",
    "    ).mean()"
   ]
  },
  {
   "cell_type": "code",
   "execution_count": 223,
   "metadata": {},
   "outputs": [],
   "source": [
    "X_ = torch.tensor(X, dtype=torch.float32)\n",
    "y_ = torch.tensor(y.reshape(-1, 1), dtype=torch.float32)"
   ]
  },
  {
   "cell_type": "code",
   "execution_count": 224,
   "metadata": {},
   "outputs": [],
   "source": [
    "X_ = (X_ - X_.mean(dim=0)) / X_.std(dim=0)"
   ]
  },
  {
   "cell_type": "code",
   "execution_count": 225,
   "metadata": {},
   "outputs": [],
   "source": [
    "train = torch.utils.data.TensorDataset(X_, y_)\n",
    "train = torch.utils.data.DataLoader(\n",
    "    dataset = train, batch_size=32, shuffle=True\n",
    ")"
   ]
  },
  {
   "cell_type": "code",
   "execution_count": 226,
   "metadata": {},
   "outputs": [],
   "source": [
    "accuracy_ = []\n",
    "loss_     = []\n",
    "for epoch in range(10):\n",
    "    list_accuracy, list_loss = [], []\n",
    "\n",
    "    for enum_, (xbatch, ybatch) in enumerate(train, 1):\n",
    "        pred = sigmoid( modelo(xbatch) )\n",
    "    \n",
    "        loss = loss_fn(ybatch, pred)\n",
    "        loss.backward()\n",
    "\n",
    "        list_accuracy.append(\n",
    "            accuracy_score(ybatch, (pred >=0.5).float())\n",
    "        )\n",
    "        list_loss.append(\n",
    "            loss.item()\n",
    "        )\n",
    "\n",
    "       \n",
    "\n",
    "        with torch.no_grad():\n",
    "            weight -= weight.grad * 0.01\n",
    "            bias   -= bias.grad * 0.01\n",
    "\n",
    "            weight.grad.zero_()\n",
    "            bias.grad.zero_()\n",
    "    accuracy_.append(np.mean(list_accuracy))\n",
    "    loss_.append(np.mean(list_loss))"
   ]
  },
  {
   "cell_type": "code",
   "execution_count": 227,
   "metadata": {},
   "outputs": [
    {
     "data": {
      "text/plain": [
       "[<matplotlib.lines.Line2D at 0x21889b02c60>]"
      ]
     },
     "execution_count": 227,
     "metadata": {},
     "output_type": "execute_result"
    },
    {
     "data": {
      "image/png": "[encoded data removed]",
      "text/plain": [
       "<Figure size 1000x500 with 2 Axes>"
      ]
     },
     "metadata": {},
     "output_type": "display_data"
    }
   ],
   "source": [
    "fig, ax = plt.subplots(1, 2, figsize=(10, 5))\n",
    "\n",
    "ax[0].plot(accuracy_)\n",
    "ax[1].plot(loss_)"
   ]
  },
  {
   "cell_type": "code",
   "execution_count": 228,
   "metadata": {},
   "outputs": [],
   "source": [
    "with torch.no_grad():\n",
    "    pred = modelo(X_)"
   ]
  },
  {
   "cell_type": "code",
   "execution_count": 229,
   "metadata": {},
   "outputs": [
    {
     "name": "stdout",
     "output_type": "stream",
     "text": [
      "              precision    recall  f1-score   support\n",
      "\n",
      "         0.0       0.81      0.79      0.80       217\n",
      "         1.0       0.87      0.88      0.88       352\n",
      "\n",
      "    accuracy                           0.85       569\n",
      "   macro avg       0.84      0.84      0.84       569\n",
      "weighted avg       0.85      0.85      0.85       569\n",
      "\n"
     ]
    }
   ],
   "source": [
    "print(classification_report((pred > 0.05).float(), y_))"
   ]
  },
  {
   "cell_type": "code",
   "execution_count": 230,
   "metadata": {},
   "outputs": [
    {
     "data": {
      "text/plain": [
       "array([[171,  46],\n",
       "       [ 41, 311]], dtype=int64)"
      ]
     },
     "execution_count": 230,
     "metadata": {},
     "output_type": "execute_result"
    }
   ],
   "source": [
    "confusion_matrix((pred > 0.05).float(), y_)"
   ]
  }
 ],
 "metadata": {
  "kernelspec": {
   "display_name": "Python 3",
   "language": "python",
   "name": "python3"
  },
  "language_info": {
   "codemirror_mode": {
    "name": "ipython",
    "version": 3
   },
   "file_extension": ".py",
   "mimetype": "text/x-python",
   "name": "python",
   "nbconvert_exporter": "python",
   "pygments_lexer": "ipython3",
   "version": "3.12.6"
  }
 },
 "nbformat": 4,
 "nbformat_minor": 2
}
