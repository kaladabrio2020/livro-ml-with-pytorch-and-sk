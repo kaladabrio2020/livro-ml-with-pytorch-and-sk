{
 "cells": [
  {
   "cell_type": "code",
   "execution_count": 97,
   "metadata": {},
   "outputs": [],
   "source": [
    "import numpy as np\n",
    "import torch\n",
    "import matplotlib.pyplot as plt"
   ]
  },
  {
   "cell_type": "code",
   "execution_count": 98,
   "metadata": {},
   "outputs": [],
   "source": [
    "xtrain = np.arange(10, dtype=np.float32).reshape(-1, 1)"
   ]
  },
  {
   "cell_type": "code",
   "execution_count": 99,
   "metadata": {},
   "outputs": [],
   "source": [
    "ytrain = np.array([1, 1.3, 3.1, 2, 5, 6.3, 6.6, 7.4, 8, 9], dtype=np.float32)"
   ]
  },
  {
   "cell_type": "code",
   "execution_count": 100,
   "metadata": {},
   "outputs": [
    {
     "data": {
      "text/plain": [
       "<matplotlib.collections.PathCollection at 0x18fe7590da0>"
      ]
     },
     "execution_count": 100,
     "metadata": {},
     "output_type": "execute_result"
    },
    {
     "data": {
      "image/png": "[encoded data removed]",
      "text/plain": [
       "<Figure size 640x480 with 1 Axes>"
      ]
     },
     "metadata": {},
     "output_type": "display_data"
    }
   ],
   "source": [
    "plt.scatter(xtrain, ytrain)"
   ]
  },
  {
   "cell_type": "code",
   "execution_count": 101,
   "metadata": {},
   "outputs": [],
   "source": [
    "xnorm = (xtrain - np.mean(xtrain)) / np.std(xtrain)"
   ]
  },
  {
   "cell_type": "code",
   "execution_count": 102,
   "metadata": {},
   "outputs": [],
   "source": [
    "xtrain_ = torch.tensor(xnorm, dtype=torch.float32)"
   ]
  },
  {
   "cell_type": "code",
   "execution_count": 103,
   "metadata": {},
   "outputs": [],
   "source": [
    "ytrain_ = torch.tensor(ytrain.reshape(-1, 1), dtype=torch.float32)"
   ]
  },
  {
   "cell_type": "code",
   "execution_count": 104,
   "metadata": {},
   "outputs": [],
   "source": [
    "train = torch.utils.data.TensorDataset(xtrain_, ytrain_)"
   ]
  },
  {
   "cell_type": "code",
   "execution_count": 105,
   "metadata": {},
   "outputs": [],
   "source": [
    "train = torch.utils.data.DataLoader(\n",
    "    dataset=train, batch_size=1, shuffle=True\n",
    "    )"
   ]
  },
  {
   "cell_type": "markdown",
   "metadata": {},
   "source": [
    "definindo a função de perda"
   ]
  },
  {
   "cell_type": "code",
   "execution_count": 106,
   "metadata": {},
   "outputs": [],
   "source": [
    "def fn_loss(input_, target_):\n",
    "    return (input_ - target_).pow(2).mean()"
   ]
  },
  {
   "cell_type": "markdown",
   "metadata": {},
   "source": [
    "definindo o modelo"
   ]
  },
  {
   "cell_type": "code",
   "execution_count": 107,
   "metadata": {},
   "outputs": [],
   "source": [
    "torch.manual_seed(seed=1)\n",
    "\n",
    "pesos_ = torch.randn(1)\n",
    "pesos_.requires_grad_()\n",
    "bias_  = torch.zeros(1, requires_grad=True)\n",
    "\n",
    "def model(xb):\n",
    "    return xb @ pesos_ + bias_"
   ]
  },
  {
   "cell_type": "code",
   "execution_count": 108,
   "metadata": {},
   "outputs": [],
   "source": [
    "lr = 0.001\n",
    "log_epochs = 10"
   ]
  },
  {
   "cell_type": "code",
   "execution_count": 109,
   "metadata": {},
   "outputs": [],
   "source": [
    "import time\n",
    "def printing_(i, length_train, loss, sleep=0.1):\n",
    "    progress = i / len(train)\n",
    "    print(  f\"\\rBatch {i}/{length_train} \"\n",
    "            f\"[{int(progress * 20) * '='}>{int((1 - progress) * 30) * ' '}] \"\n",
    "            f\"{progress * 100:.2f}% - Loss: {loss:.4f}\", end=\"\")\n",
    "    time.sleep(sleep)\n",
    "    \n",
    "def final_epoch(l_loss):\n",
    "    print()\n",
    "    print(f'    > loss_mean:{np.mean(l_loss):2f}')"
   ]
  },
  {
   "cell_type": "code",
   "execution_count": 110,
   "metadata": {},
   "outputs": [
    {
     "name": "stdout",
     "output_type": "stream",
     "text": [
      "Batch 10/10 [====================>] 100.00% - Loss: 46.57200327535\n",
      "    > loss_mean:29.287950\n",
      "Batch 10/10 [====================>] 100.00% - Loss: 25.22904725014\n",
      "    > loss_mean:28.144095\n",
      "Batch 10/10 [====================>] 100.00% - Loss: 35.68827697977\n",
      "    > loss_mean:27.045537\n",
      "Batch 10/10 [====================>] 100.00% - Loss: 3.73394234641\n",
      "    > loss_mean:25.990483\n",
      "Batch 10/10 [====================>] 100.00% - Loss: 33.47623740537\n",
      "    > loss_mean:24.977209\n",
      "Batch 10/10 [====================>] 100.00% - Loss: 3.488996644609\n",
      "    > loss_mean:24.004060\n",
      "Batch 10/10 [====================>] 100.00% - Loss: 10.96625796045\n",
      "    > loss_mean:23.069450\n",
      "Batch 10/10 [====================>] 100.00% - Loss: 20.31013045298\n",
      "    > loss_mean:22.171847\n",
      "Batch 10/10 [====================>] 100.00% - Loss: 45.4799985944\n",
      "    > loss_mean:21.309790\n",
      "Batch 10/10 [====================>] 100.00% - Loss: 32.51396432036\n",
      "    > loss_mean:20.481872\n"
     ]
    }
   ],
   "source": [
    "len_ = len(train)\n",
    "for epoch in range(10):\n",
    "    l_loss = []\n",
    "    for batch_i, (xbatch, ybatch) in enumerate(train, 1):\n",
    "        pred = model(xbatch)\n",
    "\n",
    "        loss = fn_loss(pred, ybatch)\n",
    "\n",
    "        loss.backward()\n",
    "        l_loss.append(loss.item())\n",
    "        printing_(batch_i, len_, loss.item())\n",
    "    with torch.no_grad():\n",
    "        pesos_ -= pesos_.grad * lr\n",
    "        bias_  -= bias_.grad * lr\n",
    "\n",
    "        pesos_.grad.zero_()\n",
    "        bias_.grad.zero_()\n",
    "\n",
    "    final_epoch(l_loss)\n",
    "    \n",
    "\n",
    "      \n",
    "        "
   ]
  },
  {
   "cell_type": "code",
   "execution_count": 113,
   "metadata": {},
   "outputs": [
    {
     "data": {
      "text/plain": [
       "tensor([-0.7132, -0.3527,  0.0078,  0.3684,  0.7289,  1.0894,  1.4499,  1.8105,\n",
       "         2.1710,  2.5315])"
      ]
     },
     "execution_count": 113,
     "metadata": {},
     "output_type": "execute_result"
    }
   ],
   "source": [
    "model(xtrain_).detach()"
   ]
  },
  {
   "cell_type": "code",
   "execution_count": 114,
   "metadata": {},
   "outputs": [
    {
     "data": {
      "text/plain": [
       "[<matplotlib.lines.Line2D at 0x18fe76b37a0>]"
      ]
     },
     "execution_count": 114,
     "metadata": {},
     "output_type": "execute_result"
    },
    {
     "data": {
      "image/png": "[encoded data removed]",
      "text/plain": [
       "<Figure size 640x480 with 1 Axes>"
      ]
     },
     "metadata": {},
     "output_type": "display_data"
    }
   ],
   "source": [
    "plt.scatter(xtrain_, ytrain_)\n",
    "plt.plot(xtrain_, model(xtrain_).detach())"
   ]
  },
  {
   "cell_type": "code",
   "execution_count": null,
   "metadata": {},
   "outputs": [],
   "source": []
  }
 ],
 "metadata": {
  "kernelspec": {
   "display_name": "Python 3",
   "language": "python",
   "name": "python3"
  },
  "language_info": {
   "codemirror_mode": {
    "name": "ipython",
    "version": 3
   },
   "file_extension": ".py",
   "mimetype": "text/x-python",
   "name": "python",
   "nbconvert_exporter": "python",
   "pygments_lexer": "ipython3",
   "version": "3.12.6"
  }
 },
 "nbformat": 4,
 "nbformat_minor": 2
}
