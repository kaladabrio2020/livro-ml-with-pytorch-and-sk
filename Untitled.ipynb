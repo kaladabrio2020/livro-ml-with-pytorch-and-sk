{
 "cells": [
  {
   "cell_type": "code",
   "execution_count": 336,
   "id": "c2ea3fb9-1413-4adc-946f-0e2ded3aeb9f",
   "metadata": {},
   "outputs": [],
   "source": [
    "import torch\n",
    "from torch import nn\n",
    "from torch import optim\n",
    "from torch.nn import functional as f\n",
    "from torch.utils.data import DataLoader, TensorDataset\n",
    "\n",
    "import matplotlib.pyplot as plt"
   ]
  },
  {
   "cell_type": "code",
   "execution_count": 351,
   "id": "375a3550",
   "metadata": {},
   "outputs": [],
   "source": [
    "torch.manual_seed(seed=10)\n",
    "\n",
    "# Criando dados aleatorios\n",
    "\n",
    "x = torch.abs(torch.randn(1000, 1)) * 10\n",
    "y = torch.abs(2*x + x*0.5 + 10)\n",
    "y.requires_grad_ = False"
   ]
  },
  {
   "cell_type": "code",
   "execution_count": 338,
   "id": "dd138f2d",
   "metadata": {},
   "outputs": [
    {
     "data": {
      "image/png": "[encoded data removed]",
      "text/plain": [
       "<Figure size 640x480 with 1 Axes>"
      ]
     },
     "metadata": {},
     "output_type": "display_data"
    }
   ],
   "source": [
    "plt.scatter(x.detach().numpy(), y.detach().numpy())\n",
    "plt.show()"
   ]
  },
  {
   "cell_type": "markdown",
   "id": "3ff95eee",
   "metadata": {},
   "source": [
    "criando modelo com class"
   ]
  },
  {
   "cell_type": "code",
   "execution_count": 339,
   "id": "fd78d2a3",
   "metadata": {},
   "outputs": [],
   "source": [
    "class Model(nn.Module):\n",
    "    def __init__(self, *args, **kwargs) -> None:\n",
    "        super(Model, self).__init__(*args, **kwargs)\n",
    "        self.inp_out = nn.Linear(in_features=1, out_features=1)\n",
    "    def forward(self, x):\n",
    "        return self.inp_out(x)\n"
   ]
  },
  {
   "cell_type": "code",
   "execution_count": 340,
   "id": "aeb0bbd6",
   "metadata": {},
   "outputs": [
    {
     "data": {
      "text/plain": [
       "Model(\n",
       "  (inp_out): Linear(in_features=1, out_features=1, bias=True)\n",
       ")"
      ]
     },
     "execution_count": 340,
     "metadata": {},
     "output_type": "execute_result"
    }
   ],
   "source": [
    "model = Model()\n",
    "model"
   ]
  },
  {
   "cell_type": "markdown",
   "id": "5001502e",
   "metadata": {},
   "source": [
    "definido `loss` e `optim` e `schedule`"
   ]
  },
  {
   "cell_type": "code",
   "execution_count": 341,
   "id": "b8478907",
   "metadata": {},
   "outputs": [],
   "source": [
    "# Erro médio absoluto\n",
    "class MAE(nn.Module):\n",
    "    def __init__(self) -> None:\n",
    "        super(MAE, self).__init__()\n",
    "    \n",
    "    def forward(self, target, output):\n",
    "        return torch.mean(input=(target - output))\n",
    "    \n",
    "# Taxa de aprendizado\n",
    "def taxa_exponencial(eta_0, s=10):\n",
    "    def expo_fn(epoch):\n",
    "        return eta_0 * (0.1 **(epoch/s))\n",
    "    return expo_fn\n",
    "\n",
    "expo = taxa_exponencial(eta_0=0.01, s=10)\n",
    "\n",
    "\n",
    "loss_fn = MAE() \n",
    "\n",
    "optimizer = optim.SGD(\n",
    "    params=model.parameters()\n",
    ")\n",
    "schedule = optim.lr_scheduler.LambdaLR(\n",
    "    optimizer=optimizer, lr_lambda=expo   \n",
    ")"
   ]
  },
  {
   "cell_type": "code",
   "execution_count": 342,
   "id": "00f31211",
   "metadata": {},
   "outputs": [],
   "source": [
    "from sklearn.model_selection import train_test_split"
   ]
  },
  {
   "cell_type": "code",
   "execution_count": 343,
   "id": "10d1f21c",
   "metadata": {},
   "outputs": [],
   "source": [
    "x = (x - x.mean())/x.std()"
   ]
  },
  {
   "cell_type": "code",
   "execution_count": 344,
   "id": "684dcda2",
   "metadata": {},
   "outputs": [],
   "source": [
    "xtrain, xtest, ytrain, ytest = train_test_split(\n",
    "    x, y, test_size=0.2, random_state=1\n",
    ")\n"
   ]
  },
  {
   "cell_type": "code",
   "execution_count": 345,
   "id": "f7bedb55",
   "metadata": {},
   "outputs": [
    {
     "data": {
      "text/plain": [
       "((torch.Size([800, 1]), torch.Size([800, 1])),\n",
       " (torch.Size([200, 1]), torch.Size([200, 1])))"
      ]
     },
     "execution_count": 345,
     "metadata": {},
     "output_type": "execute_result"
    }
   ],
   "source": [
    "(xtrain.shape, ytrain.shape), (xtest.shape, ytest.shape)"
   ]
  },
  {
   "cell_type": "code",
   "execution_count": 346,
   "id": "56ed2a13",
   "metadata": {},
   "outputs": [],
   "source": [
    "data  = TensorDataset(xtrain, ytrain)"
   ]
  },
  {
   "cell_type": "code",
   "execution_count": 347,
   "id": "22389c83",
   "metadata": {},
   "outputs": [],
   "source": [
    "train = DataLoader(\n",
    "    dataset=data, batch_size=5, shuffle=True, drop_last=True\n",
    ")\n",
    "epoch = 10"
   ]
  },
  {
   "cell_type": "code",
   "execution_count": 348,
   "id": "65eb2d22",
   "metadata": {},
   "outputs": [
    {
     "data": {
      "text/plain": [
       "160"
      ]
     },
     "execution_count": 348,
     "metadata": {},
     "output_type": "execute_result"
    }
   ],
   "source": [
    "xtrain.shape[0]//5"
   ]
  },
  {
   "cell_type": "code",
   "execution_count": 349,
   "id": "b7739602",
   "metadata": {},
   "outputs": [
    {
     "name": "stdout",
     "output_type": "stream",
     "text": [
      "epoch 0 --- loss : 3.7255 --- lr : 1e-05\n",
      "epoch 1 --- loss : 3.7241 --- lr : 7.943282347242815e-06\n",
      "epoch 2 --- loss : 3.7229 --- lr : 6.309573444801933e-06\n",
      "epoch 3 --- loss : 3.7220 --- lr : 5.011872336272724e-06\n",
      "epoch 4 --- loss : 3.7213 --- lr : 3.9810717055349725e-06\n",
      "epoch 5 --- loss : 3.7207 --- lr : 3.1622776601683796e-06\n",
      "epoch 6 --- loss : 3.7203 --- lr : 2.51188643150958e-06\n",
      "epoch 7 --- loss : 3.7199 --- lr : 1.9952623149688804e-06\n",
      "epoch 8 --- loss : 3.7196 --- lr : 1.5848931924611134e-06\n",
      "epoch 9 --- loss : 3.7194 --- lr : 1.2589254117941674e-06\n"
     ]
    }
   ],
   "source": [
    "list_loss = []\n",
    "list_lr   = []\n",
    "for epoch in range(epoch):\n",
    "    loss_item , lr_item = 0, 0\n",
    "\n",
    "    for enum, (xbatch, ybatch) in enumerate(train):\n",
    "        pred = model(xbatch)\n",
    "    \n",
    "        loss = loss_fn(ybatch, pred)\n",
    "\n",
    "        loss_item += loss.item()\n",
    "\n",
    "        #\n",
    "        loss.backward()\n",
    "        optimizer.step()\n",
    "        optimizer.zero_grad()\n",
    "        #\n",
    "        \n",
    "    mean_loss  = (loss_item/(enum+1))\n",
    "    learn_rate = optimizer.param_groups[0]['lr']\n",
    "    list_loss.append(mean_loss)\n",
    "    list_lr.append(learn_rate)\n",
    "    schedule.step()\n",
    "    print(f'''\\\n",
    "epoch {epoch} --- loss : {mean_loss:.4f} --- lr : {learn_rate}\\\n",
    "''')\n",
    "\n",
    "    "
   ]
  },
  {
   "cell_type": "code",
   "execution_count": 350,
   "id": "3a4e3135",
   "metadata": {},
   "outputs": [
    {
     "data": {
      "text/plain": [
       "tensor(-3.7071, grad_fn=<MeanBackward0>)"
      ]
     },
     "execution_count": 350,
     "metadata": {},
     "output_type": "execute_result"
    }
   ],
   "source": [
    "MAE()(model(xtest),ytest)"
   ]
  },
  {
   "cell_type": "code",
   "execution_count": null,
   "id": "d5e1cdce",
   "metadata": {},
   "outputs": [],
   "source": []
  }
 ],
 "metadata": {
  "kernelspec": {
   "display_name": "Python 3 (ipykernel)",
   "language": "python",
   "name": "python3"
  },
  "language_info": {
   "codemirror_mode": {
    "name": "ipython",
    "version": 3
   },
   "file_extension": ".py",
   "mimetype": "text/x-python",
   "name": "python",
   "nbconvert_exporter": "python",
   "pygments_lexer": "ipython3",
   "version": "3.11.9"
  }
 },
 "nbformat": 4,
 "nbformat_minor": 5
}
